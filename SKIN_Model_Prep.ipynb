{
 "cells": [
  {
   "cell_type": "markdown",
   "id": "a618362b",
   "metadata": {},
   "source": [
    "## Load Dataset and Create 20 Samples in SKIN_samples"
   ]
  },
  {
   "cell_type": "code",
   "execution_count": 1,
   "id": "9c0cc8f2",
   "metadata": {},
   "outputs": [],
   "source": [
    "import pandas as pd\n",
    "import os\n",
    "import shutil\n",
    "import numpy as np\n",
    "from PIL import Image\n",
    "from sklearn.model_selection import train_test_split\n",
    "from sklearn.preprocessing import StandardScaler, OneHotEncoder\n",
    "from sklearn.compose import ColumnTransformer\n",
    "\n",
    "import onnx\n",
    "import onnxruntime as ort\n",
    "from sklearn.preprocessing import LabelEncoder\n",
    "from sklearn.metrics import classification_report, confusion_matrix\n",
    "import matplotlib.pyplot as plt\n",
    "import seaborn as sns\n",
    "import numpy as np"
   ]
  },
  {
   "cell_type": "code",
   "execution_count": 2,
   "id": "5348b70e",
   "metadata": {},
   "outputs": [],
   "source": [
    "# ---------- Configuration ----------\n",
    "image_dir = \"Dataset/HAM10000_images\"\n",
    "metadata_path = \"Dataset/HAM10000_metadata.csv\"\n",
    "sample_dir = \"Dataset/SKIN_sample\"\n",
    "os.makedirs(sample_dir, exist_ok=True)"
   ]
  },
  {
   "cell_type": "code",
   "execution_count": 3,
   "id": "248afedb",
   "metadata": {},
   "outputs": [],
   "source": [
    "# ---------- Load and Prepare Metadata ----------\n",
    "df = pd.read_csv(metadata_path)\n",
    "df['image_path'] = df['image_id'].apply(lambda x: os.path.join(image_dir, f\"{x}.jpg\"))\n",
    "\n",
    "label_map = {\n",
    "    'nv': 'Melanocytic Nevi',\n",
    "    'mel': 'Melanoma',\n",
    "    'bkl': 'Benign Keratosis-like Lesions',\n",
    "    'bcc': 'Basal Cell Carcinoma',\n",
    "    'akiec': 'Actinic Keratoses',\n",
    "    'vasc': 'Vascular Lesions',\n",
    "    'df': 'Dermatofibroma'\n",
    "}\n",
    "df['label_name'] = df['dx'].map(label_map)\n",
    "\n",
    "# Filter out missing image files\n",
    "df = df[df['image_path'].apply(os.path.exists)].reset_index(drop=True)\n",
    "\n",
    "# ---------- Stratified 20-sample split ----------\n",
    "sample_df, _ = train_test_split(\n",
    "    df,\n",
    "    train_size=20,\n",
    "    stratify=df['label_name'],\n",
    "    random_state=42\n",
    ")"
   ]
  },
  {
   "cell_type": "code",
   "execution_count": 4,
   "id": "848c1ef9",
   "metadata": {},
   "outputs": [],
   "source": [
    "for i, row in sample_df.iterrows():\n",
    "    src = row['image_path']\n",
    "    dst = os.path.join(sample_dir, f\"{row['image_id']}.jpg\")\n",
    "    shutil.copy(src, dst)\n",
    "\n",
    "# Update image_path to SKIN_sample folder\n",
    "sample_df['image_path'] = sample_df['image_id'].apply(lambda x: os.path.join(sample_dir, f\"{x}.jpg\"))\n",
    "\n",
    "# ---------- Save CSV ----------\n",
    "sample_df.to_csv(os.path.join(sample_dir, \"SKIN_sample.csv\"), index=False)\n",
    "\n"
   ]
  },
  {
   "cell_type": "code",
   "execution_count": 5,
   "id": "8c968cf7",
   "metadata": {},
   "outputs": [
    {
     "data": {
      "text/plain": [
       "label_name\n",
       "Melanocytic Nevi                 14\n",
       "Melanoma                          2\n",
       "Benign Keratosis-like Lesions     2\n",
       "Actinic Keratoses                 1\n",
       "Basal Cell Carcinoma              1\n",
       "Name: count, dtype: int64"
      ]
     },
     "execution_count": 5,
     "metadata": {},
     "output_type": "execute_result"
    }
   ],
   "source": [
    "# ---------- Optional: Show label distribution ----------\n",
    "sample_df['label_name'].value_counts()"
   ]
  },
  {
   "cell_type": "code",
   "execution_count": 6,
   "id": "1bda4e95",
   "metadata": {},
   "outputs": [
    {
     "data": {
      "text/html": [
       "<div>\n",
       "<style scoped>\n",
       "    .dataframe tbody tr th:only-of-type {\n",
       "        vertical-align: middle;\n",
       "    }\n",
       "\n",
       "    .dataframe tbody tr th {\n",
       "        vertical-align: top;\n",
       "    }\n",
       "\n",
       "    .dataframe thead th {\n",
       "        text-align: right;\n",
       "    }\n",
       "</style>\n",
       "<table border=\"1\" class=\"dataframe\">\n",
       "  <thead>\n",
       "    <tr style=\"text-align: right;\">\n",
       "      <th></th>\n",
       "      <th>lesion_id</th>\n",
       "      <th>image_id</th>\n",
       "      <th>dx</th>\n",
       "      <th>dx_type</th>\n",
       "      <th>age</th>\n",
       "      <th>sex</th>\n",
       "      <th>localization</th>\n",
       "      <th>image_path</th>\n",
       "      <th>label_name</th>\n",
       "    </tr>\n",
       "  </thead>\n",
       "  <tbody>\n",
       "    <tr>\n",
       "      <th>3260</th>\n",
       "      <td>HAM_0002632</td>\n",
       "      <td>ISIC_0029943</td>\n",
       "      <td>nv</td>\n",
       "      <td>follow_up</td>\n",
       "      <td>50.0</td>\n",
       "      <td>female</td>\n",
       "      <td>genital</td>\n",
       "      <td>Dataset/SKIN_sample/ISIC_0029943.jpg</td>\n",
       "      <td>Melanocytic Nevi</td>\n",
       "    </tr>\n",
       "    <tr>\n",
       "      <th>7095</th>\n",
       "      <td>HAM_0005159</td>\n",
       "      <td>ISIC_0029826</td>\n",
       "      <td>nv</td>\n",
       "      <td>histo</td>\n",
       "      <td>50.0</td>\n",
       "      <td>male</td>\n",
       "      <td>back</td>\n",
       "      <td>Dataset/SKIN_sample/ISIC_0029826.jpg</td>\n",
       "      <td>Melanocytic Nevi</td>\n",
       "    </tr>\n",
       "    <tr>\n",
       "      <th>2141</th>\n",
       "      <td>HAM_0006037</td>\n",
       "      <td>ISIC_0026571</td>\n",
       "      <td>mel</td>\n",
       "      <td>histo</td>\n",
       "      <td>40.0</td>\n",
       "      <td>female</td>\n",
       "      <td>chest</td>\n",
       "      <td>Dataset/SKIN_sample/ISIC_0026571.jpg</td>\n",
       "      <td>Melanoma</td>\n",
       "    </tr>\n",
       "    <tr>\n",
       "      <th>7309</th>\n",
       "      <td>HAM_0003507</td>\n",
       "      <td>ISIC_0032784</td>\n",
       "      <td>nv</td>\n",
       "      <td>histo</td>\n",
       "      <td>30.0</td>\n",
       "      <td>male</td>\n",
       "      <td>lower extremity</td>\n",
       "      <td>Dataset/SKIN_sample/ISIC_0032784.jpg</td>\n",
       "      <td>Melanocytic Nevi</td>\n",
       "    </tr>\n",
       "    <tr>\n",
       "      <th>4185</th>\n",
       "      <td>HAM_0005210</td>\n",
       "      <td>ISIC_0025965</td>\n",
       "      <td>nv</td>\n",
       "      <td>follow_up</td>\n",
       "      <td>50.0</td>\n",
       "      <td>male</td>\n",
       "      <td>trunk</td>\n",
       "      <td>Dataset/SKIN_sample/ISIC_0025965.jpg</td>\n",
       "      <td>Melanocytic Nevi</td>\n",
       "    </tr>\n",
       "  </tbody>\n",
       "</table>\n",
       "</div>"
      ],
      "text/plain": [
       "        lesion_id      image_id   dx    dx_type   age     sex  \\\n",
       "3260  HAM_0002632  ISIC_0029943   nv  follow_up  50.0  female   \n",
       "7095  HAM_0005159  ISIC_0029826   nv      histo  50.0    male   \n",
       "2141  HAM_0006037  ISIC_0026571  mel      histo  40.0  female   \n",
       "7309  HAM_0003507  ISIC_0032784   nv      histo  30.0    male   \n",
       "4185  HAM_0005210  ISIC_0025965   nv  follow_up  50.0    male   \n",
       "\n",
       "         localization                            image_path        label_name  \n",
       "3260          genital  Dataset/SKIN_sample/ISIC_0029943.jpg  Melanocytic Nevi  \n",
       "7095             back  Dataset/SKIN_sample/ISIC_0029826.jpg  Melanocytic Nevi  \n",
       "2141            chest  Dataset/SKIN_sample/ISIC_0026571.jpg          Melanoma  \n",
       "7309  lower extremity  Dataset/SKIN_sample/ISIC_0032784.jpg  Melanocytic Nevi  \n",
       "4185            trunk  Dataset/SKIN_sample/ISIC_0025965.jpg  Melanocytic Nevi  "
      ]
     },
     "execution_count": 6,
     "metadata": {},
     "output_type": "execute_result"
    }
   ],
   "source": [
    "sample_df.head()"
   ]
  },
  {
   "cell_type": "markdown",
   "id": "33559ce9",
   "metadata": {},
   "source": [
    "## Model Evaluation"
   ]
  },
  {
   "cell_type": "code",
   "execution_count": 7,
   "id": "5404dc16",
   "metadata": {},
   "outputs": [],
   "source": [
    "def preprocess_sample_data(sample_dir=\"Dataset/SKIN_sample\", image_size=224):\n",
    "    import pandas as pd, numpy as np, os\n",
    "    from PIL import Image\n",
    "\n",
    "    # 1) Load sample metadata\n",
    "    df = pd.read_csv(os.path.join(sample_dir, \"SKIN_sample.csv\"))\n",
    "    df['image_path'] = df['image_id'].apply(lambda x: os.path.join(sample_dir, f\"{x}.jpg\"))\n",
    "\n",
    "    # 2) Load & normalize images\n",
    "    X_img = []\n",
    "    for img_id in df['image_id']:\n",
    "        img = Image.open(os.path.join(sample_dir, f\"{img_id}.jpg\"))\\\n",
    "                   .convert(\"RGB\").resize((image_size, image_size))\n",
    "        X_img.append(np.array(img, np.float32) / 255.0)\n",
    "    X_img = np.stack(X_img, axis=0)\n",
    "\n",
    "    # 3) Prepare metadata\n",
    "    meta_df = df[['age', 'sex', 'localization']].copy()\n",
    "    meta_df['age'].fillna(meta_df['age'].mean(), inplace=True)\n",
    "\n",
    "    # 4) Define full category lists exactly as in training\n",
    "    sex_categories = ['male', 'female']  # training saw only these two\n",
    "    # You must replace this list with the full set of localizations seen in training:\n",
    "    loc_categories = ['abdomen', 'acral', 'back', 'chest', 'ear', 'face', 'foot',\n",
    "                      'genital', 'hand', 'lower extremity', 'neck', 'scalp',\n",
    "                      'trunk', 'unknown', 'upper extremity']\n",
    "\n",
    "    # 5) Build a ColumnTransformer with fixed categories\n",
    "    preprocessor = ColumnTransformer([\n",
    "        ('num', StandardScaler(), ['age']),\n",
    "        ('cat', OneHotEncoder(categories=[sex_categories, loc_categories],\n",
    "                              handle_unknown='ignore'),\n",
    "         ['sex', 'localization'])\n",
    "    ])\n",
    "\n",
    "    # 6) Transform metadata—no fitting on the small sample\n",
    "    X_meta = preprocessor.fit_transform(meta_df).astype(np.float32)\n",
    "    \n",
    "    if hasattr(X_meta, \"toarray\"):\n",
    "        X_meta = X_meta.toarray()\n",
    "    X_meta = np.asarray(X_meta, dtype=np.float32)\n",
    "\n",
    "    # 7) True labels\n",
    "    y_true = df['label_name'].tolist()\n",
    "\n",
    "    return X_img, X_meta, y_true"
   ]
  },
  {
   "cell_type": "markdown",
   "id": "847d4b43",
   "metadata": {},
   "source": [
    "### Load the dataset"
   ]
  },
  {
   "cell_type": "code",
   "execution_count": 8,
   "id": "0592df9b",
   "metadata": {},
   "outputs": [
    {
     "name": "stderr",
     "output_type": "stream",
     "text": [
      "/tmp/ipykernel_240752/3023666417.py:19: FutureWarning: A value is trying to be set on a copy of a DataFrame or Series through chained assignment using an inplace method.\n",
      "The behavior will change in pandas 3.0. This inplace method will never work because the intermediate object on which we are setting values always behaves as a copy.\n",
      "\n",
      "For example, when doing 'df[col].method(value, inplace=True)', try using 'df.method({col: value}, inplace=True)' or df[col] = df[col].method(value) instead, to perform the operation inplace on the original object.\n",
      "\n",
      "\n",
      "  meta_df['age'].fillna(meta_df['age'].mean(), inplace=True)\n"
     ]
    }
   ],
   "source": [
    "# Call the preprocessing function to load the data\n",
    "X_img, X_meta, y_true = preprocess_sample_data()\n",
    "\n"
   ]
  },
  {
   "cell_type": "markdown",
   "id": "3b58a585",
   "metadata": {},
   "source": [
    "### Load ONNX"
   ]
  },
  {
   "cell_type": "code",
   "execution_count": 9,
   "id": "b6a2c3ba",
   "metadata": {},
   "outputs": [],
   "source": [
    "# Load the ONNX model\n",
    "onnx_path = \"Models/SKIN_72.onnx\"\n",
    "onnx_model = onnx.load(onnx_path)\n",
    "onnx.checker.check_model(onnx_model)"
   ]
  },
  {
   "cell_type": "markdown",
   "id": "dcdb27de",
   "metadata": {},
   "source": [
    "### Inference"
   ]
  },
  {
   "cell_type": "code",
   "execution_count": 10,
   "id": "60684fb9",
   "metadata": {},
   "outputs": [],
   "source": [
    "ort_session = ort.InferenceSession(onnx_path)\n",
    "\n",
    "# ── Prepare inputs ──\n",
    "input_names = [inp.name for inp in ort_session.get_inputs()]\n",
    "# e.g. ['image_input', 'meta_input']\n",
    "feed = {\n",
    "    input_names[0]: X_img,\n",
    "    input_names[1]: X_meta\n",
    "}\n",
    "\n",
    "# ── Run inference ──\n",
    "y_pred_probs = ort_session.run(None, feed)[0]\n",
    "y_pred = np.argmax(y_pred_probs, axis=1)\n",
    "\n",
    "# 1) Define the full, original class list in the same order used at training\n",
    "class_names = [\n",
    "    'Actinic Keratoses',\n",
    "    'Basal Cell Carcinoma',\n",
    "    'Benign Keratosis-like Lesions',\n",
    "    'Dermatofibroma',\n",
    "    'Melanocytic Nevi',\n",
    "    'Melanoma',\n",
    "    'Vascular Lesions'\n",
    "]\n",
    "\n",
    "# 2) Encode y_true against that full list\n",
    "y_true_enc = np.array([ class_names.index(lbl) for lbl in y_true ], dtype=int)"
   ]
  },
  {
   "cell_type": "markdown",
   "id": "9176650a",
   "metadata": {},
   "source": [
    "### Results\n"
   ]
  },
  {
   "cell_type": "code",
   "execution_count": 11,
   "id": "4035d169",
   "metadata": {},
   "outputs": [
    {
     "name": "stdout",
     "output_type": "stream",
     "text": [
      "                               precision    recall  f1-score   support\n",
      "\n",
      "            Actinic Keratoses       0.00      0.00      0.00         1\n",
      "         Basal Cell Carcinoma       0.33      1.00      0.50         1\n",
      "Benign Keratosis-like Lesions       0.25      0.50      0.33         2\n",
      "               Dermatofibroma       0.00      0.00      0.00         0\n",
      "             Melanocytic Nevi       1.00      0.57      0.73        14\n",
      "                     Melanoma       0.25      0.50      0.33         2\n",
      "             Vascular Lesions       0.00      0.00      0.00         0\n",
      "\n",
      "                     accuracy                           0.55        20\n",
      "                    macro avg       0.26      0.37      0.27        20\n",
      "                 weighted avg       0.77      0.55      0.60        20\n",
      "\n"
     ]
    },
    {
     "data": {
      "image/png": "[encoded data removed]",
      "text/plain": [
       "<Figure size 800x600 with 2 Axes>"
      ]
     },
     "metadata": {},
     "output_type": "display_data"
    }
   ],
   "source": [
    "print(classification_report(\n",
    "    y_true_enc, \n",
    "    y_pred, \n",
    "    labels=list(range(len(class_names))), \n",
    "    target_names=class_names,\n",
    "    zero_division=0       # avoids warnings if a class has zero preds\n",
    "))\n",
    "\n",
    "# 5) And plot the confusion matrix\n",
    "cm = confusion_matrix(y_true_enc, y_pred, labels=list(range(len(class_names))))\n",
    "plt.figure(figsize=(8,6))\n",
    "sns.heatmap(cm, annot=True, fmt='d', cmap='Blues',\n",
    "            xticklabels=class_names, yticklabels=class_names)\n",
    "plt.xlabel('Predicted')\n",
    "plt.ylabel('True')\n",
    "plt.title('Confusion Matrix')\n",
    "plt.show()"
   ]
  },
  {
   "cell_type": "code",
   "execution_count": 12,
   "id": "c3763a62",
   "metadata": {},
   "outputs": [
    {
     "data": {
      "text/plain": [
       "label_name\n",
       "Melanocytic Nevi                 14\n",
       "Melanoma                          2\n",
       "Benign Keratosis-like Lesions     2\n",
       "Actinic Keratoses                 1\n",
       "Basal Cell Carcinoma              1\n",
       "Name: count, dtype: int64"
      ]
     },
     "execution_count": 12,
     "metadata": {},
     "output_type": "execute_result"
    }
   ],
   "source": [
    "# ---------- Optional: Show label distribution ----------\n",
    "sample_df['label_name'].value_counts()"
   ]
  },
  {
   "cell_type": "code",
   "execution_count": null,
   "id": "2645334e",
   "metadata": {},
   "outputs": [],
   "source": []
  }
 ],
 "metadata": {
  "kernelspec": {
   "display_name": "StrokePredictionML",
   "language": "python",
   "name": "python3"
  },
  "language_info": {
   "codemirror_mode": {
    "name": "ipython",
    "version": 3
   },
   "file_extension": ".py",
   "mimetype": "text/x-python",
   "name": "python",
   "nbconvert_exporter": "python",
   "pygments_lexer": "ipython3",
   "version": "3.10.12"
  }
 },
 "nbformat": 4,
 "nbformat_minor": 5
}
