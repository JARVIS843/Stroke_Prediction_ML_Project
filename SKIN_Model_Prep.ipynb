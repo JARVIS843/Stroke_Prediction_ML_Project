{
 "cells": [
  {
   "cell_type": "markdown",
   "id": "a618362b",
   "metadata": {},
   "source": [
    "## Load Dataset and Create 100 Samples in SKIN_samples"
   ]
  },
  {
   "cell_type": "code",
   "execution_count": 1,
   "id": "9c0cc8f2",
   "metadata": {},
   "outputs": [],
   "source": [
    "import pandas as pd\n",
    "import os\n",
    "import shutil\n",
    "import numpy as np\n",
    "from PIL import Image\n",
    "from sklearn.model_selection import train_test_split\n",
    "from sklearn.preprocessing import StandardScaler, OneHotEncoder\n",
    "from sklearn.compose import ColumnTransformer\n",
    "\n",
    "import onnx\n",
    "import onnxruntime as ort\n",
    "from sklearn.preprocessing import LabelEncoder\n",
    "from sklearn.metrics import classification_report, confusion_matrix\n",
    "import matplotlib.pyplot as plt\n",
    "import seaborn as sns\n",
    "import numpy as np"
   ]
  },
  {
   "cell_type": "markdown",
   "id": "f752025f",
   "metadata": {},
   "source": [
    "### Create Sample Dataset"
   ]
  },
  {
   "cell_type": "code",
   "execution_count": 2,
   "id": "5348b70e",
   "metadata": {},
   "outputs": [],
   "source": [
    "# ---------- Configuration ----------\n",
    "image_dir = \"Dataset/HAM10000_images\"\n",
    "metadata_path = \"Dataset/HAM10000_metadata.csv\"\n",
    "sample_dir = \"Dataset/SKIN_sample\"\n",
    "os.makedirs(sample_dir, exist_ok=True)"
   ]
  },
  {
   "cell_type": "code",
   "execution_count": 3,
   "id": "248afedb",
   "metadata": {},
   "outputs": [],
   "source": [
    "df = pd.read_csv(metadata_path)\n",
    "df['image_path'] = df['image_id'].apply(lambda x: os.path.join(image_dir, f\"{x}.jpg\"))\n",
    "\n",
    "label_map = {\n",
    "    'nv': 'Melanocytic Nevi',\n",
    "    'mel': 'Melanoma',\n",
    "    'bkl': 'Benign Keratosis-like Lesions',\n",
    "    'bcc': 'Basal Cell Carcinoma',\n",
    "    'akiec': 'Actinic Keratoses',\n",
    "    'vasc': 'Vascular Lesions',\n",
    "    'df': 'Dermatofibroma'\n",
    "}\n",
    "df['label_name'] = df['dx'].map(label_map)\n",
    "\n",
    "target_total = 100\n",
    "classes = list(label_map.values())\n",
    "samples_per_class = target_total // len(classes)  # floor division: 14\n",
    "extra = target_total % len(classes)               # remainder: 2\n",
    "\n",
    "# ---------- Calculate per-class sample sizes ----------\n",
    "# First give all classes the base number, then assign 'extra' randomly\n",
    "np.random.seed(42)\n",
    "extra_classes = np.random.choice(classes, size=extra, replace=False)\n",
    "\n",
    "sample_sizes = {cls: samples_per_class + (1 if cls in extra_classes else 0) for cls in classes}\n",
    "\n",
    "# ---------- Perform the sampling ----------\n",
    "sample_df = pd.concat([\n",
    "    df[df['label_name'] == cls].sample(n=sample_sizes[cls], random_state=42)\n",
    "    for cls in classes\n",
    "]).reset_index(drop=True)\n"
   ]
  },
  {
   "cell_type": "code",
   "execution_count": 4,
   "id": "848c1ef9",
   "metadata": {},
   "outputs": [],
   "source": [
    "for i, row in sample_df.iterrows():\n",
    "    src = row['image_path']\n",
    "    dst = os.path.join(sample_dir, f\"{row['image_id']}.jpg\")\n",
    "    shutil.copy(src, dst)\n",
    "\n",
    "# Update image_path to SKIN_sample folder\n",
    "sample_df['image_path'] = sample_df['image_id'].apply(lambda x: os.path.join(sample_dir, f\"{x}.jpg\"))\n",
    "\n",
    "# ---------- Save CSV ----------\n",
    "sample_df.to_csv(os.path.join(sample_dir, \"SKIN_sample.csv\"), index=False)\n",
    "\n"
   ]
  },
  {
   "cell_type": "code",
   "execution_count": 5,
   "id": "8c968cf7",
   "metadata": {},
   "outputs": [
    {
     "data": {
      "text/plain": [
       "label_name\n",
       "Melanocytic Nevi                 15\n",
       "Melanoma                         15\n",
       "Benign Keratosis-like Lesions    14\n",
       "Basal Cell Carcinoma             14\n",
       "Actinic Keratoses                14\n",
       "Vascular Lesions                 14\n",
       "Dermatofibroma                   14\n",
       "Name: count, dtype: int64"
      ]
     },
     "execution_count": 5,
     "metadata": {},
     "output_type": "execute_result"
    }
   ],
   "source": [
    "# ---------- Optional: Show label distribution ----------\n",
    "sample_df['label_name'].value_counts()"
   ]
  },
  {
   "cell_type": "code",
   "execution_count": 6,
   "id": "1bda4e95",
   "metadata": {},
   "outputs": [
    {
     "data": {
      "text/html": [
       "<div>\n",
       "<style scoped>\n",
       "    .dataframe tbody tr th:only-of-type {\n",
       "        vertical-align: middle;\n",
       "    }\n",
       "\n",
       "    .dataframe tbody tr th {\n",
       "        vertical-align: top;\n",
       "    }\n",
       "\n",
       "    .dataframe thead th {\n",
       "        text-align: right;\n",
       "    }\n",
       "</style>\n",
       "<table border=\"1\" class=\"dataframe\">\n",
       "  <thead>\n",
       "    <tr style=\"text-align: right;\">\n",
       "      <th></th>\n",
       "      <th>lesion_id</th>\n",
       "      <th>image_id</th>\n",
       "      <th>dx</th>\n",
       "      <th>dx_type</th>\n",
       "      <th>age</th>\n",
       "      <th>sex</th>\n",
       "      <th>localization</th>\n",
       "      <th>image_path</th>\n",
       "      <th>label_name</th>\n",
       "    </tr>\n",
       "  </thead>\n",
       "  <tbody>\n",
       "    <tr>\n",
       "      <th>0</th>\n",
       "      <td>HAM_0003697</td>\n",
       "      <td>ISIC_0025438</td>\n",
       "      <td>nv</td>\n",
       "      <td>follow_up</td>\n",
       "      <td>40.0</td>\n",
       "      <td>male</td>\n",
       "      <td>back</td>\n",
       "      <td>Dataset/SKIN_sample/ISIC_0025438.jpg</td>\n",
       "      <td>Melanocytic Nevi</td>\n",
       "    </tr>\n",
       "    <tr>\n",
       "      <th>1</th>\n",
       "      <td>HAM_0000217</td>\n",
       "      <td>ISIC_0029881</td>\n",
       "      <td>nv</td>\n",
       "      <td>histo</td>\n",
       "      <td>40.0</td>\n",
       "      <td>male</td>\n",
       "      <td>chest</td>\n",
       "      <td>Dataset/SKIN_sample/ISIC_0029881.jpg</td>\n",
       "      <td>Melanocytic Nevi</td>\n",
       "    </tr>\n",
       "    <tr>\n",
       "      <th>2</th>\n",
       "      <td>HAM_0003344</td>\n",
       "      <td>ISIC_0026399</td>\n",
       "      <td>nv</td>\n",
       "      <td>follow_up</td>\n",
       "      <td>35.0</td>\n",
       "      <td>female</td>\n",
       "      <td>abdomen</td>\n",
       "      <td>Dataset/SKIN_sample/ISIC_0026399.jpg</td>\n",
       "      <td>Melanocytic Nevi</td>\n",
       "    </tr>\n",
       "    <tr>\n",
       "      <th>3</th>\n",
       "      <td>HAM_0006028</td>\n",
       "      <td>ISIC_0032189</td>\n",
       "      <td>nv</td>\n",
       "      <td>histo</td>\n",
       "      <td>40.0</td>\n",
       "      <td>male</td>\n",
       "      <td>chest</td>\n",
       "      <td>Dataset/SKIN_sample/ISIC_0032189.jpg</td>\n",
       "      <td>Melanocytic Nevi</td>\n",
       "    </tr>\n",
       "    <tr>\n",
       "      <th>4</th>\n",
       "      <td>HAM_0000162</td>\n",
       "      <td>ISIC_0026609</td>\n",
       "      <td>nv</td>\n",
       "      <td>follow_up</td>\n",
       "      <td>40.0</td>\n",
       "      <td>female</td>\n",
       "      <td>back</td>\n",
       "      <td>Dataset/SKIN_sample/ISIC_0026609.jpg</td>\n",
       "      <td>Melanocytic Nevi</td>\n",
       "    </tr>\n",
       "  </tbody>\n",
       "</table>\n",
       "</div>"
      ],
      "text/plain": [
       "     lesion_id      image_id  dx    dx_type   age     sex localization  \\\n",
       "0  HAM_0003697  ISIC_0025438  nv  follow_up  40.0    male         back   \n",
       "1  HAM_0000217  ISIC_0029881  nv      histo  40.0    male        chest   \n",
       "2  HAM_0003344  ISIC_0026399  nv  follow_up  35.0  female      abdomen   \n",
       "3  HAM_0006028  ISIC_0032189  nv      histo  40.0    male        chest   \n",
       "4  HAM_0000162  ISIC_0026609  nv  follow_up  40.0  female         back   \n",
       "\n",
       "                             image_path        label_name  \n",
       "0  Dataset/SKIN_sample/ISIC_0025438.jpg  Melanocytic Nevi  \n",
       "1  Dataset/SKIN_sample/ISIC_0029881.jpg  Melanocytic Nevi  \n",
       "2  Dataset/SKIN_sample/ISIC_0026399.jpg  Melanocytic Nevi  \n",
       "3  Dataset/SKIN_sample/ISIC_0032189.jpg  Melanocytic Nevi  \n",
       "4  Dataset/SKIN_sample/ISIC_0026609.jpg  Melanocytic Nevi  "
      ]
     },
     "execution_count": 6,
     "metadata": {},
     "output_type": "execute_result"
    }
   ],
   "source": [
    "sample_df.head()"
   ]
  },
  {
   "cell_type": "markdown",
   "id": "33559ce9",
   "metadata": {},
   "source": [
    "## Model Evaluation"
   ]
  },
  {
   "cell_type": "code",
   "execution_count": 7,
   "id": "5404dc16",
   "metadata": {},
   "outputs": [],
   "source": [
    "def preprocess_sample_data(sample_dir=\"Dataset/SKIN_sample\", image_size=224):\n",
    "    import pandas as pd, numpy as np, os\n",
    "    from PIL import Image\n",
    "\n",
    "    # 1) Load sample metadata\n",
    "    df = pd.read_csv(os.path.join(sample_dir, \"SKIN_sample.csv\"))\n",
    "    df['image_path'] = df['image_id'].apply(lambda x: os.path.join(sample_dir, f\"{x}.jpg\"))\n",
    "\n",
    "    # 2) Load & normalize images\n",
    "    X_img = []\n",
    "    for img_id in df['image_id']:\n",
    "        img = Image.open(os.path.join(sample_dir, f\"{img_id}.jpg\"))\\\n",
    "                   .convert(\"RGB\").resize((image_size, image_size))\n",
    "        X_img.append(np.array(img, np.float32) / 255.0)\n",
    "    X_img = np.stack(X_img, axis=0)\n",
    "\n",
    "    # 3) Prepare metadata\n",
    "    meta_df = df[['age', 'sex', 'localization']].copy()\n",
    "    meta_df['age'].fillna(meta_df['age'].mean(), inplace=True)\n",
    "\n",
    "    # 4) Define full category lists exactly as in training\n",
    "    sex_categories = ['male', 'female']  # training saw only these two\n",
    "    # You must replace this list with the full set of localizations seen in training:\n",
    "    loc_categories = ['abdomen', 'acral', 'back', 'chest', 'ear', 'face', 'foot',\n",
    "                      'genital', 'hand', 'lower extremity', 'neck', 'scalp',\n",
    "                      'trunk', 'unknown', 'upper extremity']\n",
    "\n",
    "    # 5) Build a ColumnTransformer with fixed categories\n",
    "    preprocessor = ColumnTransformer([\n",
    "        ('num', StandardScaler(), ['age']),\n",
    "        ('cat', OneHotEncoder(categories=[sex_categories, loc_categories],\n",
    "                              handle_unknown='ignore'),\n",
    "         ['sex', 'localization'])\n",
    "    ])\n",
    "\n",
    "    # 6) Transform metadata—no fitting on the small sample\n",
    "    X_meta = preprocessor.fit_transform(meta_df).astype(np.float32)\n",
    "    \n",
    "    if hasattr(X_meta, \"toarray\"):\n",
    "        X_meta = X_meta.toarray()\n",
    "    X_meta = np.asarray(X_meta, dtype=np.float32)\n",
    "\n",
    "    # 7) True labels\n",
    "    y_true = df['label_name'].tolist()\n",
    "\n",
    "    return X_img, X_meta, y_true"
   ]
  },
  {
   "cell_type": "markdown",
   "id": "847d4b43",
   "metadata": {},
   "source": [
    "### Load the dataset"
   ]
  },
  {
   "cell_type": "code",
   "execution_count": 8,
   "id": "0592df9b",
   "metadata": {},
   "outputs": [
    {
     "name": "stderr",
     "output_type": "stream",
     "text": [
      "/tmp/ipykernel_279802/3023666417.py:19: FutureWarning: A value is trying to be set on a copy of a DataFrame or Series through chained assignment using an inplace method.\n",
      "The behavior will change in pandas 3.0. This inplace method will never work because the intermediate object on which we are setting values always behaves as a copy.\n",
      "\n",
      "For example, when doing 'df[col].method(value, inplace=True)', try using 'df.method({col: value}, inplace=True)' or df[col] = df[col].method(value) instead, to perform the operation inplace on the original object.\n",
      "\n",
      "\n",
      "  meta_df['age'].fillna(meta_df['age'].mean(), inplace=True)\n"
     ]
    }
   ],
   "source": [
    "# Call the preprocessing function to load the data\n",
    "X_img, X_meta, y_true = preprocess_sample_data()\n",
    "\n"
   ]
  },
  {
   "cell_type": "markdown",
   "id": "624e4e48",
   "metadata": {},
   "source": [
    "### Export processed dataset for quantization later"
   ]
  },
  {
   "cell_type": "code",
   "execution_count": null,
   "id": "60aa693f",
   "metadata": {},
   "outputs": [],
   "source": [
    "BATCH_SIZE = 3\n",
    "output_dir = './Models/quant_data'\n",
    "os.makedirs(output_dir, exist_ok=True)\n",
    "\n",
    "dataset_txt_lines = []\n",
    "\n",
    "# Pad if needed to make divisible by 3\n",
    "pad_len = (-len(X_img)) % BATCH_SIZE\n",
    "if pad_len > 0:\n",
    "    X_img = np.concatenate([X_img, np.zeros((pad_len, 224, 224, 3), dtype=np.float32)])\n",
    "    X_meta = np.concatenate([X_meta, np.zeros((pad_len, X_meta.shape[1]), dtype=np.float32)])"
   ]
  },
  {
   "cell_type": "code",
   "execution_count": null,
   "id": "e5df341e",
   "metadata": {},
   "outputs": [],
   "source": [
    "# save npy files\n",
    "for i in range(0, len(X_img), BATCH_SIZE):\n",
    "    batch_idx = i // BATCH_SIZE\n",
    "    img_batch = X_img[i:i+BATCH_SIZE]\n",
    "    meta_batch = X_meta[i:i+BATCH_SIZE]\n",
    "\n",
    "    img_path = f'image_batch_{batch_idx:04d}.npy'\n",
    "    meta_path = f'meta_batch_{batch_idx:04d}.npy'\n",
    "\n",
    "    np.save(os.path.join(output_dir, img_path), img_batch)\n",
    "    np.save(os.path.join(output_dir, meta_path), meta_batch)\n",
    "\n",
    "    dataset_txt_lines.append(f'{img_path} {meta_path}')"
   ]
  },
  {
   "cell_type": "code",
   "execution_count": null,
   "id": "c4ee3d11",
   "metadata": {},
   "outputs": [],
   "source": [
    "with open(os.path.join(output_dir, 'dataset.txt'), 'w') as f:\n",
    "    f.write('\\n'.join(dataset_txt_lines))"
   ]
  },
  {
   "cell_type": "markdown",
   "id": "3b58a585",
   "metadata": {},
   "source": [
    "### Load ONNX"
   ]
  },
  {
   "cell_type": "code",
   "execution_count": 9,
   "id": "b6a2c3ba",
   "metadata": {},
   "outputs": [],
   "source": [
    "# Load the ONNX model\n",
    "onnx_path = \"Models/SKIN_69.onnx\"    #Best: SKIN_69.onnx, SKIN.onnx\n",
    "onnx_model = onnx.load(onnx_path)\n",
    "onnx.checker.check_model(onnx_model)"
   ]
  },
  {
   "cell_type": "code",
   "execution_count": 10,
   "id": "c7a6d93b",
   "metadata": {},
   "outputs": [
    {
     "name": "stdout",
     "output_type": "stream",
     "text": [
      "image_input: [0, 224, 224, 3]\n",
      "meta_input: [0, 18]\n"
     ]
    }
   ],
   "source": [
    "for inp in onnx_model.graph.input:\n",
    "    shape = [dim.dim_value for dim in inp.type.tensor_type.shape.dim]\n",
    "    print(f'{inp.name}: {shape}')"
   ]
  },
  {
   "cell_type": "markdown",
   "id": "dcdb27de",
   "metadata": {},
   "source": [
    "### Inference"
   ]
  },
  {
   "cell_type": "code",
   "execution_count": 11,
   "id": "60684fb9",
   "metadata": {},
   "outputs": [],
   "source": [
    "ort_session = ort.InferenceSession(onnx_path)\n",
    "\n",
    "# ── Prepare inputs ──\n",
    "input_names = [inp.name for inp in ort_session.get_inputs()]\n",
    "# e.g. ['image_input', 'meta_input']\n",
    "feed = {\n",
    "    input_names[0]: X_img,\n",
    "    input_names[1]: X_meta\n",
    "}\n",
    "\n",
    "# ── Run inference ──\n",
    "y_pred_probs = ort_session.run(None, feed)[0]\n",
    "y_pred = np.argmax(y_pred_probs, axis=1)\n",
    "\n",
    "# 1) Define the full, original class list in the same order used at training\n",
    "class_names = [\n",
    "    'Actinic Keratoses',\n",
    "    'Basal Cell Carcinoma',\n",
    "    'Benign Keratosis-like Lesions',\n",
    "    'Dermatofibroma',\n",
    "    'Melanocytic Nevi',\n",
    "    'Melanoma',\n",
    "    'Vascular Lesions'\n",
    "]\n",
    "\n",
    "# 2) Encode y_true against that full list\n",
    "y_true_enc = np.array([ class_names.index(lbl) for lbl in y_true ], dtype=int)"
   ]
  },
  {
   "cell_type": "code",
   "execution_count": 12,
   "id": "c103cdd5",
   "metadata": {},
   "outputs": [
    {
     "data": {
      "text/plain": [
       "array([4, 4, 4, 4, 4, 4, 4, 4, 4, 4, 4, 4, 4, 5, 4, 5, 5, 5, 2, 5, 5, 5,\n",
       "       5, 5, 1, 5, 5, 5, 5, 5, 2, 2, 2, 3, 2, 2, 2, 4, 2, 2, 2, 2, 2, 4,\n",
       "       2, 1, 1, 1, 2, 1, 1, 1, 1, 1, 1, 0, 4, 1, 1, 0, 0, 1, 1, 2, 2, 2,\n",
       "       1, 5, 0, 0, 0, 1, 6, 6, 6, 4, 2, 6, 6, 2, 6, 6, 2, 6, 6, 6, 3, 0,\n",
       "       6, 3, 3, 1, 3, 3, 3, 3, 3, 5, 2, 3])"
      ]
     },
     "execution_count": 12,
     "metadata": {},
     "output_type": "execute_result"
    }
   ],
   "source": [
    "y_pred"
   ]
  },
  {
   "cell_type": "markdown",
   "id": "9176650a",
   "metadata": {},
   "source": [
    "### Results\n"
   ]
  },
  {
   "cell_type": "code",
   "execution_count": 13,
   "id": "4035d169",
   "metadata": {},
   "outputs": [
    {
     "name": "stdout",
     "output_type": "stream",
     "text": [
      "                               precision    recall  f1-score   support\n",
      "\n",
      "            Actinic Keratoses       0.71      0.36      0.48        14\n",
      "         Basal Cell Carcinoma       0.59      0.71      0.65        14\n",
      "Benign Keratosis-like Lesions       0.52      0.79      0.63        14\n",
      "               Dermatofibroma       0.90      0.64      0.75        14\n",
      "             Melanocytic Nevi       0.78      0.93      0.85        15\n",
      "                     Melanoma       0.81      0.87      0.84        15\n",
      "             Vascular Lesions       0.91      0.71      0.80        14\n",
      "\n",
      "                     accuracy                           0.72       100\n",
      "                    macro avg       0.75      0.72      0.71       100\n",
      "                 weighted avg       0.75      0.72      0.72       100\n",
      "\n"
     ]
    },
    {
     "data": {
      "image/png": "[encoded data removed]",
      "text/plain": [
       "<Figure size 800x600 with 2 Axes>"
      ]
     },
     "metadata": {},
     "output_type": "display_data"
    }
   ],
   "source": [
    "print(classification_report(\n",
    "    y_true_enc, \n",
    "    y_pred, \n",
    "    labels=list(range(len(class_names))), \n",
    "    target_names=class_names,\n",
    "    zero_division=0       # avoids warnings if a class has zero preds\n",
    "))\n",
    "\n",
    "# 5) And plot the confusion matrix\n",
    "cm = confusion_matrix(y_true_enc, y_pred, labels=list(range(len(class_names))))\n",
    "plt.figure(figsize=(8,6))\n",
    "sns.heatmap(cm, annot=True, fmt='d', cmap='Blues',\n",
    "            xticklabels=class_names, yticklabels=class_names)\n",
    "plt.xlabel('Predicted')\n",
    "plt.ylabel('True')\n",
    "plt.title('Confusion Matrix')\n",
    "plt.show()"
   ]
  },
  {
   "cell_type": "code",
   "execution_count": null,
   "id": "2645334e",
   "metadata": {},
   "outputs": [],
   "source": []
  }
 ],
 "metadata": {
  "kernelspec": {
   "display_name": "StrokePredictionML",
   "language": "python",
   "name": "python3"
  },
  "language_info": {
   "codemirror_mode": {
    "name": "ipython",
    "version": 3
   },
   "file_extension": ".py",
   "mimetype": "text/x-python",
   "name": "python",
   "nbconvert_exporter": "python",
   "pygments_lexer": "ipython3",
   "version": "3.9.21"
  }
 },
 "nbformat": 4,
 "nbformat_minor": 5
}
