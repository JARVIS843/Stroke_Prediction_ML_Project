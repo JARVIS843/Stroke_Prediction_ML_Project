{
 "cells": [
  {
   "cell_type": "markdown",
   "id": "c895fe12",
   "metadata": {},
   "source": [
    "## Import Libraries"
   ]
  },
  {
   "cell_type": "code",
   "execution_count": 1,
   "id": "19835896",
   "metadata": {},
   "outputs": [],
   "source": [
    "import os\n",
    "import shutil\n",
    "import pandas as pd\n",
    "import numpy as np\n",
    "from glob import glob\n",
    "from pathlib import Path\n",
    "from PIL import Image"
   ]
  },
  {
   "cell_type": "markdown",
   "id": "409cbc07",
   "metadata": {},
   "source": [
    "## Create Sample Dataset"
   ]
  },
  {
   "cell_type": "code",
   "execution_count": 3,
   "id": "f86b0f46",
   "metadata": {},
   "outputs": [],
   "source": [
    "# Define source and target directories\n",
    "source_dir = \"Dataset/EYE_DATASET\"\n",
    "target_dir = \"Dataset/EYE_sample\"\n",
    "os.makedirs(target_dir, exist_ok=True)\n",
    "\n",
    "# List of classes (subdirectories)\n",
    "classes = ['cataract', 'diabetic_retinopathy', 'glaucoma', 'normal']\n",
    "samples_per_class = 25\n",
    "\n",
    "sample_metadata = []\n",
    "\n",
    "for label in classes:\n",
    "    img_paths = []\n",
    "    for ext in [\"*.jpg\", \"*.jpeg\", \"*.png\"]:\n",
    "        img_paths.extend(glob(os.path.join(source_dir, label, ext)))\n",
    "\n",
    "    if len(img_paths) < samples_per_class:\n",
    "        print(f\"Skipping '{label}' — not enough images found.\")\n",
    "        continue\n",
    "\n",
    "    selected_imgs = np.random.choice(img_paths, size=samples_per_class, replace=False)\n",
    "\n",
    "    for img_path in selected_imgs:\n",
    "        img_name = Path(img_path).name\n",
    "        new_path = os.path.join(target_dir, img_name)\n",
    "        shutil.copy(img_path, new_path)\n",
    "        sample_metadata.append({'image_id': img_name, 'label': label})\n",
    "\n",
    "# Save metadata CSV\n",
    "sample_df = pd.DataFrame(sample_metadata)\n",
    "sample_df.to_csv(os.path.join(target_dir, \"EYE_sample.csv\"), index=False)"
   ]
  },
  {
   "cell_type": "markdown",
   "id": "4f73e10b",
   "metadata": {},
   "source": [
    "## Preprocessing"
   ]
  },
  {
   "cell_type": "code",
   "execution_count": 4,
   "id": "2b1ddabc",
   "metadata": {},
   "outputs": [],
   "source": [
    "def preprocess_sample_data(sample_dir=\"Dataset/EYE_sample\", image_size=224):\n",
    "    df = pd.read_csv(os.path.join(sample_dir, \"EYE_sample.csv\"))\n",
    "\n",
    "    images = []\n",
    "    for fname in df[\"image_id\"]:\n",
    "        img = Image.open(os.path.join(sample_dir, fname)).convert(\"RGB\").resize((image_size, image_size))\n",
    "        img_arr = np.array(img, dtype=np.float32) / 255.0  # Normalize to [0,1]\n",
    "        images.append(img_arr)\n",
    "\n",
    "    X = np.stack(images, axis=0)\n",
    "    y = df[\"label\"].tolist()\n",
    "\n",
    "    return X, y"
   ]
  },
  {
   "cell_type": "markdown",
   "id": "6dca90ad",
   "metadata": {},
   "source": [
    "## Load Data and Proprocess"
   ]
  },
  {
   "cell_type": "code",
   "execution_count": 5,
   "id": "ec3d15d5",
   "metadata": {},
   "outputs": [
    {
     "data": {
      "text/plain": [
       "((100, 224, 224, 3),\n",
       " ['cataract', 'cataract', 'cataract', 'cataract', 'cataract'])"
      ]
     },
     "execution_count": 5,
     "metadata": {},
     "output_type": "execute_result"
    }
   ],
   "source": [
    "X, y_true = preprocess_sample_data()\n",
    "X.shape, y_true[:5]"
   ]
  },
  {
   "cell_type": "markdown",
   "id": "9f907baf",
   "metadata": {},
   "source": [
    "## Export Data for Quantization"
   ]
  },
  {
   "cell_type": "code",
   "execution_count": 12,
   "id": "2603a60a",
   "metadata": {},
   "outputs": [
    {
     "name": "stdout",
     "output_type": "stream",
     "text": [
      "Total padded samples: 102\n",
      "Quantization data and dataset.txt saved in: Models/eye_quant_data\n"
     ]
    }
   ],
   "source": [
    "import os\n",
    "import numpy as np\n",
    "\n",
    "quant_dir = \"Models/eye_quant_data\"\n",
    "os.makedirs(quant_dir, exist_ok=True)\n",
    "\n",
    "# Pad to make divisible by 3\n",
    "BATCH_SIZE = 3\n",
    "pad_len = (-len(X)) % BATCH_SIZE\n",
    "if pad_len > 0:\n",
    "    pad_shape = (pad_len, 224, 224, 3)\n",
    "    X = np.concatenate([X, np.zeros(pad_shape, dtype=np.float32)])\n",
    "\n",
    "print(f\"Total padded samples: {len(X)}\")\n",
    "\n",
    "# Save .npy batches and relative dataset.txt\n",
    "dataset_txt_path = os.path.join(quant_dir, \"dataset.txt\")\n",
    "with open(dataset_txt_path, \"w\") as f:\n",
    "    for i in range(0, len(X), BATCH_SIZE):\n",
    "        batch = X[i:i+BATCH_SIZE]\n",
    "        filename = f\"image_{i//BATCH_SIZE:04d}.npy\"\n",
    "        file_path = os.path.join(quant_dir, filename)\n",
    "        np.save(file_path, batch)\n",
    "        f.write(filename + \"\\n\")  # write only the filename, not the full path\n",
    "\n",
    "print(f\"Quantization data and dataset.txt saved in: {quant_dir}\")\n"
   ]
  },
  {
   "cell_type": "markdown",
   "id": "30b29cb7",
   "metadata": {},
   "source": [
    "## Load ONNX Model and Run Inference"
   ]
  },
  {
   "cell_type": "code",
   "execution_count": 8,
   "id": "6540fbdd",
   "metadata": {},
   "outputs": [],
   "source": [
    "import onnxruntime as ort\n",
    "\n",
    "# Load ONNX model\n",
    "onnx_model_path = \"Models/EYE_81.onnx\"\n",
    "sess = ort.InferenceSession(onnx_model_path, providers=[\"CPUExecutionProvider\"])\n",
    "\n",
    "# Perform inference\n",
    "outputs = sess.run(None, {\"input\": X.astype(np.float32)})\n",
    "y_pred = np.argmax(outputs[0], axis=1)"
   ]
  },
  {
   "cell_type": "markdown",
   "id": "f4806686",
   "metadata": {},
   "source": [
    "## Results"
   ]
  },
  {
   "cell_type": "code",
   "execution_count": 10,
   "id": "c5f6f6f2",
   "metadata": {},
   "outputs": [
    {
     "name": "stdout",
     "output_type": "stream",
     "text": [
      "=== Classification Report ===\n",
      "                      precision    recall  f1-score   support\n",
      "\n",
      "            cataract       0.91      0.84      0.88        25\n",
      "diabetic_retinopathy       0.88      0.84      0.86        25\n",
      "            glaucoma       0.90      0.72      0.80        25\n",
      "              normal       0.61      0.80      0.69        25\n",
      "\n",
      "            accuracy                           0.80       100\n",
      "           macro avg       0.82      0.80      0.81       100\n",
      "        weighted avg       0.82      0.80      0.81       100\n",
      "\n"
     ]
    },
    {
     "data": {
      "image/png": "[encoded data removed]",
      "text/plain": [
       "<Figure size 800x600 with 2 Axes>"
      ]
     },
     "metadata": {},
     "output_type": "display_data"
    }
   ],
   "source": [
    "from sklearn.metrics import classification_report, confusion_matrix\n",
    "from sklearn.preprocessing import LabelEncoder\n",
    "import pandas as pd\n",
    "import seaborn as sns\n",
    "import matplotlib.pyplot as plt\n",
    "\n",
    "# Encode true labels\n",
    "le = LabelEncoder()\n",
    "y_true_enc = le.fit_transform(y_true)\n",
    "class_names = le.classes_\n",
    "\n",
    "# Classification results\n",
    "report = classification_report(y_true_enc, y_pred, target_names=class_names, zero_division=0)\n",
    "cm = confusion_matrix(y_true_enc, y_pred)\n",
    "\n",
    "print(\"=== Classification Report ===\")\n",
    "print(report)\n",
    "# Confusion matrix heatmap\n",
    "plt.figure(figsize=(8, 6))\n",
    "sns.heatmap(cm, annot=True, fmt='d', cmap='Blues',\n",
    "            xticklabels=class_names,\n",
    "            yticklabels=class_names)\n",
    "\n",
    "plt.title(\"Confusion Matrix\")\n",
    "plt.xlabel(\"Predicted Label\")\n",
    "plt.ylabel(\"True Label\")\n",
    "plt.tight_layout()\n",
    "plt.show()"
   ]
  },
  {
   "cell_type": "code",
   "execution_count": null,
   "id": "058588fa",
   "metadata": {},
   "outputs": [],
   "source": []
  }
 ],
 "metadata": {
  "kernelspec": {
   "display_name": "StrokePredictionML",
   "language": "python",
   "name": "python3"
  },
  "language_info": {
   "codemirror_mode": {
    "name": "ipython",
    "version": 3
   },
   "file_extension": ".py",
   "mimetype": "text/x-python",
   "name": "python",
   "nbconvert_exporter": "python",
   "pygments_lexer": "ipython3",
   "version": "3.10.12"
  }
 },
 "nbformat": 4,
 "nbformat_minor": 5
}
