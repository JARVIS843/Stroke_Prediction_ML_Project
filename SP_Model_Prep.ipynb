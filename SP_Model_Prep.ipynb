{
 "cells": [
  {
   "cell_type": "markdown",
   "id": "540ffbb8",
   "metadata": {},
   "source": [
    "## Loading Dataset"
   ]
  },
  {
   "cell_type": "markdown",
   "id": "5bb6d6ae",
   "metadata": {},
   "source": [
    "We begin by loading the original healthcare stroke dataset, which is located in the Dataset folder. We'll use pandas to read it into a DataFrame.\n"
   ]
  },
  {
   "cell_type": "code",
   "execution_count": 1,
   "id": "2df62c33",
   "metadata": {},
   "outputs": [
    {
     "name": "stdout",
     "output_type": "stream",
     "text": [
      "<class 'pandas.core.frame.DataFrame'>\n",
      "RangeIndex: 5110 entries, 0 to 5109\n",
      "Data columns (total 12 columns):\n",
      " #   Column             Non-Null Count  Dtype  \n",
      "---  ------             --------------  -----  \n",
      " 0   id                 5110 non-null   int64  \n",
      " 1   gender             5110 non-null   object \n",
      " 2   age                5110 non-null   float64\n",
      " 3   hypertension       5110 non-null   int64  \n",
      " 4   heart_disease      5110 non-null   int64  \n",
      " 5   ever_married       5110 non-null   object \n",
      " 6   work_type          5110 non-null   object \n",
      " 7   Residence_type     5110 non-null   object \n",
      " 8   avg_glucose_level  5110 non-null   float64\n",
      " 9   bmi                4909 non-null   float64\n",
      " 10  smoking_status     5110 non-null   object \n",
      " 11  stroke             5110 non-null   int64  \n",
      "dtypes: float64(3), int64(4), object(5)\n",
      "memory usage: 479.2+ KB\n"
     ]
    }
   ],
   "source": [
    "import pandas as pd\n",
    "\n",
    "# Load the dataset\n",
    "dataset_path = 'Dataset/healthcare-dataset-stroke-data.csv'\n",
    "df = pd.read_csv(dataset_path)\n",
    "\n",
    "# Display basic information\n",
    "df.info()"
   ]
  },
  {
   "cell_type": "markdown",
   "id": "91068b0d",
   "metadata": {},
   "source": [
    "We will take exactly 100 rows, preserving the proportion of stroke == 1 and stroke == 0 from the original dataset. The output will be saved to the Dataset/ folder."
   ]
  },
  {
   "cell_type": "code",
   "execution_count": 8,
   "id": "3b978ed3",
   "metadata": {},
   "outputs": [
    {
     "data": {
      "text/plain": [
       "stroke\n",
       "0    0.95\n",
       "1    0.05\n",
       "Name: proportion, dtype: float64"
      ]
     },
     "execution_count": 8,
     "metadata": {},
     "output_type": "execute_result"
    }
   ],
   "source": [
    "from sklearn.model_selection import train_test_split\n",
    "\n",
    "# Get stratified sample of exactly 100 rows\n",
    "# First, split out 100 samples using stratified sampling on the 'stroke' column\n",
    "_, sample_df = train_test_split(\n",
    "    df,\n",
    "    stratify=df['stroke'],\n",
    "    test_size=100,\n",
    "    random_state=42\n",
    ")\n",
    "\n",
    "# Verify the distribution\n",
    "sample_df['stroke'].value_counts(normalize=True)"
   ]
  },
  {
   "cell_type": "code",
   "execution_count": 9,
   "id": "29d8f3ee",
   "metadata": {},
   "outputs": [
    {
     "name": "stdout",
     "output_type": "stream",
     "text": [
      "Number of positive stroke cases in sample: 5\n"
     ]
    }
   ],
   "source": [
    "# Count how many samples have stroke == 1\n",
    "stroke_positive_count = sample_df['stroke'].sum()\n",
    "print(f\"Number of positive stroke cases in sample: {stroke_positive_count}\")"
   ]
  },
  {
   "cell_type": "markdown",
   "id": "4c45cfac",
   "metadata": {},
   "source": [
    "To make the sample dataset easier to trace, we will overwrite the id column so that it runs from 1 to 100 sequentially."
   ]
  },
  {
   "cell_type": "code",
   "execution_count": 10,
   "id": "180455d9",
   "metadata": {},
   "outputs": [
    {
     "data": {
      "text/html": [
       "<div>\n",
       "<style scoped>\n",
       "    .dataframe tbody tr th:only-of-type {\n",
       "        vertical-align: middle;\n",
       "    }\n",
       "\n",
       "    .dataframe tbody tr th {\n",
       "        vertical-align: top;\n",
       "    }\n",
       "\n",
       "    .dataframe thead th {\n",
       "        text-align: right;\n",
       "    }\n",
       "</style>\n",
       "<table border=\"1\" class=\"dataframe\">\n",
       "  <thead>\n",
       "    <tr style=\"text-align: right;\">\n",
       "      <th></th>\n",
       "      <th>id</th>\n",
       "      <th>stroke</th>\n",
       "    </tr>\n",
       "  </thead>\n",
       "  <tbody>\n",
       "    <tr>\n",
       "      <th>379</th>\n",
       "      <td>1</td>\n",
       "      <td>0</td>\n",
       "    </tr>\n",
       "    <tr>\n",
       "      <th>4847</th>\n",
       "      <td>2</td>\n",
       "      <td>0</td>\n",
       "    </tr>\n",
       "    <tr>\n",
       "      <th>1834</th>\n",
       "      <td>3</td>\n",
       "      <td>0</td>\n",
       "    </tr>\n",
       "    <tr>\n",
       "      <th>3341</th>\n",
       "      <td>4</td>\n",
       "      <td>0</td>\n",
       "    </tr>\n",
       "    <tr>\n",
       "      <th>1265</th>\n",
       "      <td>5</td>\n",
       "      <td>0</td>\n",
       "    </tr>\n",
       "  </tbody>\n",
       "</table>\n",
       "</div>"
      ],
      "text/plain": [
       "      id  stroke\n",
       "379    1       0\n",
       "4847   2       0\n",
       "1834   3       0\n",
       "3341   4       0\n",
       "1265   5       0"
      ]
     },
     "execution_count": 10,
     "metadata": {},
     "output_type": "execute_result"
    }
   ],
   "source": [
    "# Overwrite the 'id' column with values from 1 to 100\n",
    "sample_df = sample_df.copy()\n",
    "sample_df['id'] = range(1, 101)\n",
    "\n",
    "# Confirm the change\n",
    "sample_df[['id', 'stroke']].head()"
   ]
  },
  {
   "cell_type": "code",
   "execution_count": 11,
   "id": "9a1d077a",
   "metadata": {},
   "outputs": [
    {
     "name": "stdout",
     "output_type": "stream",
     "text": [
      "✅ Stratified 100-sample dataset saved to 'Dataset/SP_sample.csv'\n"
     ]
    }
   ],
   "source": [
    "# Save the sample to the Dataset folder\n",
    "sample_df.to_csv('Dataset/SP_sample.csv', index=False)\n",
    "print(\"✅ Stratified 100-sample dataset saved to 'Dataset/SP_sample.csv'\")"
   ]
  },
  {
   "cell_type": "markdown",
   "id": "1d7fe43a",
   "metadata": {},
   "source": [
    "## Evaluate and Test the Models"
   ]
  },
  {
   "cell_type": "markdown",
   "id": "3b879cd4",
   "metadata": {},
   "source": [
    "Stroke Prediction produces a model, exported using tflite and onnx formats. The two formats would be evaluated and analyzed in terms of their performance."
   ]
  },
  {
   "cell_type": "code",
   "execution_count": 2,
   "id": "2c67170a",
   "metadata": {},
   "outputs": [],
   "source": [
    "import numpy as np\n",
    "import pandas as pd\n",
    "from sklearn.preprocessing import LabelEncoder, MinMaxScaler\n",
    "from sklearn.utils import resample\n",
    "from sklearn.metrics import accuracy_score, f1_score, precision_score, recall_score, confusion_matrix\n",
    "\n",
    "import onnxruntime as ort"
   ]
  },
  {
   "cell_type": "markdown",
   "id": "08ad5663",
   "metadata": {},
   "source": [
    "Below is a preprocessing function that will be used to prepare the data for training and testing; it follows the same steps as the original code."
   ]
  },
  {
   "cell_type": "code",
   "execution_count": 3,
   "id": "6b708830",
   "metadata": {},
   "outputs": [],
   "source": [
    "def preprocess_sample_data(df_sample):\n",
    "    df = df_sample.copy()\n",
    "    \n",
    "    df = df.drop(columns=\"id\")\n",
    "    \n",
    "    df[\"age_group\"] = df[\"age\"].apply(lambda x: \"Infant\" if (x >= 0) & (x <= 2)\n",
    "        else (\"Child\" if (x > 2) & (x <= 12)\n",
    "        else (\"Adolescent\" if (x > 12) & (x <= 18)\n",
    "        else (\"Young Adults\" if (x > 19) & (x <= 35)\n",
    "        else (\"Middle Aged Adults\" if (x > 35) & (x <= 60)\n",
    "        else \"Old Aged Adults\")))))\n",
    "\n",
    "    df['bmi'] = df['bmi'].fillna(df.groupby([\"gender\", \"ever_married\", \"age_group\"])[\"bmi\"].transform('mean'))\n",
    "    \n",
    "    df = df[(df[\"bmi\"] < 66) & (df[\"bmi\"] > 12)]\n",
    "    df = df[(df[\"avg_glucose_level\"] > 56) & (df[\"avg_glucose_level\"] < 250)]\n",
    "    df = df.drop(df[df[\"gender\"] == \"Other\"].index)\n",
    "    \n",
    "    had_stroke = df[df[\"stroke\"] == 1]\n",
    "    no_stroke = df[df[\"stroke\"] == 0]\n",
    "    upsampled_had_stroke = resample(had_stroke, replace=True, n_samples=no_stroke.shape[0], random_state=123)\n",
    "    upsampled_data = pd.concat([no_stroke, upsampled_had_stroke])\n",
    "    \n",
    "    # One-hot encoding\n",
    "    cols = ['gender', 'hypertension', 'heart_disease', 'ever_married', 'work_type', 'Residence_type', 'smoking_status']\n",
    "    dums = pd.get_dummies(upsampled_data[cols], dtype=int)\n",
    "    \n",
    "    # Ensure all expected dummy columns are present\n",
    "    expected_dummy_cols = [\n",
    "        'gender_Female', 'gender_Male',\n",
    "        'ever_married_No', 'ever_married_Yes',\n",
    "        'work_type_Govt_job', 'work_type_Never_worked',\n",
    "        'work_type_Private', 'work_type_Self-employed', 'work_type_children',\n",
    "        'Residence_type_Rural', 'Residence_type_Urban',\n",
    "        'smoking_status_Unknown', 'smoking_status_formerly smoked',\n",
    "        'smoking_status_never smoked', 'smoking_status_smokes'\n",
    "    ]\n",
    "    \n",
    "    for col in expected_dummy_cols:\n",
    "        if col not in dums:\n",
    "            dums[col] = 0  # Add missing columns as 0s\n",
    "    \n",
    "    # Reorder to match model input\n",
    "    dums = dums[expected_dummy_cols]\n",
    "    \n",
    "    model_data = pd.concat([upsampled_data.drop(columns=cols), dums], axis=1)\n",
    "\n",
    "    # Encode ordinal column\n",
    "    encoder = LabelEncoder()\n",
    "    model_data[\"age_group\"] = encoder.fit_transform(model_data[\"age_group\"])\n",
    "    \n",
    "    # Normalize numerical features\n",
    "    scaler = MinMaxScaler()\n",
    "    for col in ['age', 'avg_glucose_level', 'bmi']:\n",
    "        scaler.fit(model_data[[col]])\n",
    "        model_data[col] = scaler.transform(model_data[[col]])\n",
    "        \n",
    "    return model_data\n"
   ]
  },
  {
   "cell_type": "markdown",
   "id": "6314a1cf",
   "metadata": {},
   "source": [
    "Load and preprocess the dataset"
   ]
  },
  {
   "cell_type": "code",
   "execution_count": null,
   "id": "ee87e7f5",
   "metadata": {},
   "outputs": [
    {
     "data": {
      "text/html": [
       "<div>\n",
       "<style scoped>\n",
       "    .dataframe tbody tr th:only-of-type {\n",
       "        vertical-align: middle;\n",
       "    }\n",
       "\n",
       "    .dataframe tbody tr th {\n",
       "        vertical-align: top;\n",
       "    }\n",
       "\n",
       "    .dataframe thead th {\n",
       "        text-align: right;\n",
       "    }\n",
       "</style>\n",
       "<table border=\"1\" class=\"dataframe\">\n",
       "  <thead>\n",
       "    <tr style=\"text-align: right;\">\n",
       "      <th></th>\n",
       "      <th>age</th>\n",
       "      <th>avg_glucose_level</th>\n",
       "      <th>bmi</th>\n",
       "      <th>stroke</th>\n",
       "      <th>age_group</th>\n",
       "      <th>gender_Female</th>\n",
       "      <th>gender_Male</th>\n",
       "      <th>ever_married_No</th>\n",
       "      <th>ever_married_Yes</th>\n",
       "      <th>work_type_Govt_job</th>\n",
       "      <th>work_type_Never_worked</th>\n",
       "      <th>work_type_Private</th>\n",
       "      <th>work_type_Self-employed</th>\n",
       "      <th>work_type_children</th>\n",
       "      <th>Residence_type_Rural</th>\n",
       "      <th>Residence_type_Urban</th>\n",
       "      <th>smoking_status_Unknown</th>\n",
       "      <th>smoking_status_formerly smoked</th>\n",
       "      <th>smoking_status_never smoked</th>\n",
       "      <th>smoking_status_smokes</th>\n",
       "    </tr>\n",
       "  </thead>\n",
       "  <tbody>\n",
       "    <tr>\n",
       "      <th>249</th>\n",
       "      <td>0.035645</td>\n",
       "      <td>0.202080</td>\n",
       "      <td>0.108571</td>\n",
       "      <td>0</td>\n",
       "      <td>1</td>\n",
       "      <td>0</td>\n",
       "      <td>1</td>\n",
       "      <td>1</td>\n",
       "      <td>0</td>\n",
       "      <td>0</td>\n",
       "      <td>0</td>\n",
       "      <td>0</td>\n",
       "      <td>0</td>\n",
       "      <td>1</td>\n",
       "      <td>1</td>\n",
       "      <td>0</td>\n",
       "      <td>1</td>\n",
       "      <td>0</td>\n",
       "      <td>0</td>\n",
       "      <td>0</td>\n",
       "    </tr>\n",
       "    <tr>\n",
       "      <th>250</th>\n",
       "      <td>0.707031</td>\n",
       "      <td>0.165028</td>\n",
       "      <td>0.512381</td>\n",
       "      <td>0</td>\n",
       "      <td>3</td>\n",
       "      <td>0</td>\n",
       "      <td>1</td>\n",
       "      <td>0</td>\n",
       "      <td>1</td>\n",
       "      <td>0</td>\n",
       "      <td>0</td>\n",
       "      <td>1</td>\n",
       "      <td>0</td>\n",
       "      <td>0</td>\n",
       "      <td>0</td>\n",
       "      <td>1</td>\n",
       "      <td>0</td>\n",
       "      <td>0</td>\n",
       "      <td>1</td>\n",
       "      <td>0</td>\n",
       "    </tr>\n",
       "    <tr>\n",
       "      <th>251</th>\n",
       "      <td>0.096680</td>\n",
       "      <td>0.283689</td>\n",
       "      <td>0.100952</td>\n",
       "      <td>0</td>\n",
       "      <td>1</td>\n",
       "      <td>1</td>\n",
       "      <td>0</td>\n",
       "      <td>1</td>\n",
       "      <td>0</td>\n",
       "      <td>0</td>\n",
       "      <td>0</td>\n",
       "      <td>1</td>\n",
       "      <td>0</td>\n",
       "      <td>0</td>\n",
       "      <td>0</td>\n",
       "      <td>1</td>\n",
       "      <td>1</td>\n",
       "      <td>0</td>\n",
       "      <td>0</td>\n",
       "      <td>0</td>\n",
       "    </tr>\n",
       "    <tr>\n",
       "      <th>252</th>\n",
       "      <td>0.853516</td>\n",
       "      <td>0.067119</td>\n",
       "      <td>0.449524</td>\n",
       "      <td>0</td>\n",
       "      <td>4</td>\n",
       "      <td>1</td>\n",
       "      <td>0</td>\n",
       "      <td>0</td>\n",
       "      <td>1</td>\n",
       "      <td>0</td>\n",
       "      <td>0</td>\n",
       "      <td>1</td>\n",
       "      <td>0</td>\n",
       "      <td>0</td>\n",
       "      <td>1</td>\n",
       "      <td>0</td>\n",
       "      <td>0</td>\n",
       "      <td>1</td>\n",
       "      <td>0</td>\n",
       "      <td>0</td>\n",
       "    </tr>\n",
       "    <tr>\n",
       "      <th>253</th>\n",
       "      <td>0.169922</td>\n",
       "      <td>0.544452</td>\n",
       "      <td>0.129524</td>\n",
       "      <td>0</td>\n",
       "      <td>0</td>\n",
       "      <td>0</td>\n",
       "      <td>1</td>\n",
       "      <td>1</td>\n",
       "      <td>0</td>\n",
       "      <td>0</td>\n",
       "      <td>1</td>\n",
       "      <td>0</td>\n",
       "      <td>0</td>\n",
       "      <td>0</td>\n",
       "      <td>1</td>\n",
       "      <td>0</td>\n",
       "      <td>1</td>\n",
       "      <td>0</td>\n",
       "      <td>0</td>\n",
       "      <td>0</td>\n",
       "    </tr>\n",
       "  </tbody>\n",
       "</table>\n",
       "</div>"
      ],
      "text/plain": [
       "          age  avg_glucose_level       bmi  stroke  age_group  gender_Female  \\\n",
       "249  0.035645           0.202080  0.108571       0          1              0   \n",
       "250  0.707031           0.165028  0.512381       0          3              0   \n",
       "251  0.096680           0.283689  0.100952       0          1              1   \n",
       "252  0.853516           0.067119  0.449524       0          4              1   \n",
       "253  0.169922           0.544452  0.129524       0          0              0   \n",
       "\n",
       "     gender_Male  ever_married_No  ever_married_Yes  work_type_Govt_job  \\\n",
       "249            1                1                 0                   0   \n",
       "250            1                0                 1                   0   \n",
       "251            0                1                 0                   0   \n",
       "252            0                0                 1                   0   \n",
       "253            1                1                 0                   0   \n",
       "\n",
       "     work_type_Never_worked  work_type_Private  work_type_Self-employed  \\\n",
       "249                       0                  0                        0   \n",
       "250                       0                  1                        0   \n",
       "251                       0                  1                        0   \n",
       "252                       0                  1                        0   \n",
       "253                       1                  0                        0   \n",
       "\n",
       "     work_type_children  Residence_type_Rural  Residence_type_Urban  \\\n",
       "249                   1                     1                     0   \n",
       "250                   0                     0                     1   \n",
       "251                   0                     0                     1   \n",
       "252                   0                     1                     0   \n",
       "253                   0                     1                     0   \n",
       "\n",
       "     smoking_status_Unknown  smoking_status_formerly smoked  \\\n",
       "249                       1                               0   \n",
       "250                       0                               0   \n",
       "251                       1                               0   \n",
       "252                       0                               1   \n",
       "253                       1                               0   \n",
       "\n",
       "     smoking_status_never smoked  smoking_status_smokes  \n",
       "249                            0                      0  \n",
       "250                            1                      0  \n",
       "251                            0                      0  \n",
       "252                            0                      0  \n",
       "253                            0                      0  "
      ]
     },
     "execution_count": 4,
     "metadata": {},
     "output_type": "execute_result"
    }
   ],
   "source": [
    "# Load raw dataset\n",
    "df_raw = pd.read_csv(\"Dataset/SP_sample.csv\")\n",
    "\n",
    "model_data = preprocess_sample_data(df_raw)\n",
    "\n",
    "X_processed = model_data.drop(columns=\"stroke\")\n",
    "y_true = model_data[\"stroke\"]\n",
    "\n",
    "model_data.head()\n"
   ]
  },
  {
   "cell_type": "markdown",
   "id": "919ed143",
   "metadata": {},
   "source": [
    "Create Dataset File for RKNN"
   ]
  },
  {
   "cell_type": "code",
   "execution_count": 5,
   "id": "ff15b349",
   "metadata": {},
   "outputs": [],
   "source": [
    "X_processed.to_csv('./Models/dataset.txt', index=False, header=False, float_format='%.6f')"
   ]
  },
  {
   "cell_type": "markdown",
   "id": "6665620a",
   "metadata": {},
   "source": [
    "Run ONNX Inference"
   ]
  },
  {
   "cell_type": "code",
   "execution_count": null,
   "id": "fc5805a4",
   "metadata": {},
   "outputs": [],
   "source": [
    "onnx_path = \"Models/best_model_91.onnx\"\n",
    "session = ort.InferenceSession(onnx_path)\n",
    "input_name = session.get_inputs()[0].name\n",
    "\n",
    "X_input = np.array(X_processed, dtype=np.float32)\n",
    "onnx_preds = session.run(None, {input_name: X_input})[0].flatten()\n",
    "y_pred_onnx = (onnx_preds > 0.5).astype(int)\n"
   ]
  },
  {
   "cell_type": "markdown",
   "id": "3d401f4c",
   "metadata": {},
   "source": [
    "Below is the function definition for evaluating the ONNX model performance:"
   ]
  },
  {
   "cell_type": "code",
   "execution_count": 39,
   "id": "e026f51e",
   "metadata": {},
   "outputs": [],
   "source": [
    "def evaluate_model(y_true, y_pred, label):\n",
    "    print(f\"--- {label} ---\")\n",
    "    print(f\"Accuracy:  {accuracy_score(y_true, y_pred):.4f}\")\n",
    "    print(f\"Precision: {precision_score(y_true, y_pred):.4f}\")\n",
    "    print(f\"Recall:    {recall_score(y_true, y_pred):.4f}\")\n",
    "    print(f\"F1 Score:  {f1_score(y_true, y_pred):.4f}\")\n",
    "    print(\"Confusion Matrix:\")\n",
    "    print(confusion_matrix(y_true, y_pred))\n",
    "    print()"
   ]
  },
  {
   "cell_type": "code",
   "execution_count": 40,
   "id": "f3cfbd28",
   "metadata": {},
   "outputs": [
    {
     "name": "stdout",
     "output_type": "stream",
     "text": [
      "--- ONNX Model ---\n",
      "Accuracy:  0.9211\n",
      "Precision: 0.8636\n",
      "Recall:    1.0000\n",
      "F1 Score:  0.9268\n",
      "Confusion Matrix:\n",
      "[[80 15]\n",
      " [ 0 95]]\n",
      "\n"
     ]
    }
   ],
   "source": [
    "evaluate_model(y_true, y_pred_onnx, \"ONNX Model\")"
   ]
  },
  {
   "cell_type": "markdown",
   "id": "c404316a",
   "metadata": {},
   "source": [
    "Below is a comparison between the performance of the orignial model and the onnx model (TL;DR: They're practically the same):\n",
    "\n",
    "| **Metric**             | **Original Model (Full Test Set)** | **ONNX Model (Sample Dataset)** | **Remarks**                                |\n",
    "|------------------------|-------------------------------------|----------------------------------|--------------------------------------------|\n",
    "| **Accuracy**           | 91.04%                              | 92.11%                           | Very close; ONNX model slightly higher.    |\n",
    "| **Precision (Stroke)** | 85%                                 | 86.36%                           | Slight improvement in sample run.          |\n",
    "| **Recall (Stroke)**    | 100%                                | 100%                             | Perfect in both – no false negatives.      |\n",
    "| **F1 Score (Stroke)**  | 92%                                 | 92.68%                           | Slight boost on the embedded test.         |\n",
    "| **False Positives**    | 169                                 | 15                               | Consistent ratio; no impact on safety.     |\n",
    "| **False Negatives**    | 0                                   | 0                                | Critical metric maintained.              |\n"
   ]
  },
  {
   "cell_type": "markdown",
   "id": "2e6fa546",
   "metadata": {},
   "source": [
    "## Convert to RKNN Model to be deployed on Embedded Device"
   ]
  },
  {
   "cell_type": "code",
   "execution_count": 16,
   "id": "996dd693",
   "metadata": {},
   "outputs": [
    {
     "name": "stdout",
     "output_type": "stream",
     "text": [
      "<class 'pandas.core.frame.DataFrame'>\n",
      "Index: 190 entries, 0 to 91\n",
      "Data columns (total 20 columns):\n",
      " #   Column                          Non-Null Count  Dtype  \n",
      "---  ------                          --------------  -----  \n",
      " 0   age                             190 non-null    float64\n",
      " 1   avg_glucose_level               190 non-null    float64\n",
      " 2   bmi                             190 non-null    float64\n",
      " 3   stroke                          190 non-null    int64  \n",
      " 4   age_group                       190 non-null    int64  \n",
      " 5   gender_Female                   190 non-null    int64  \n",
      " 6   gender_Male                     190 non-null    int64  \n",
      " 7   ever_married_No                 190 non-null    int64  \n",
      " 8   ever_married_Yes                190 non-null    int64  \n",
      " 9   work_type_Govt_job              190 non-null    int64  \n",
      " 10  work_type_Never_worked          190 non-null    int64  \n",
      " 11  work_type_Private               190 non-null    int64  \n",
      " 12  work_type_Self-employed         190 non-null    int64  \n",
      " 13  work_type_children              190 non-null    int64  \n",
      " 14  Residence_type_Rural            190 non-null    int64  \n",
      " 15  Residence_type_Urban            190 non-null    int64  \n",
      " 16  smoking_status_Unknown          190 non-null    int64  \n",
      " 17  smoking_status_formerly smoked  190 non-null    int64  \n",
      " 18  smoking_status_never smoked     190 non-null    int64  \n",
      " 19  smoking_status_smokes           190 non-null    int64  \n",
      "dtypes: float64(3), int64(17)\n",
      "memory usage: 31.2 KB\n"
     ]
    }
   ],
   "source": [
    "model_data.info()\n"
   ]
  },
  {
   "cell_type": "code",
   "execution_count": null,
   "id": "8271ee1f",
   "metadata": {},
   "outputs": [],
   "source": []
  }
 ],
 "metadata": {
  "kernelspec": {
   "display_name": "StrokePredictionML",
   "language": "python",
   "name": "python3"
  },
  "language_info": {
   "codemirror_mode": {
    "name": "ipython",
    "version": 3
   },
   "file_extension": ".py",
   "mimetype": "text/x-python",
   "name": "python",
   "nbconvert_exporter": "python",
   "pygments_lexer": "ipython3",
   "version": "3.10.12"
  }
 },
 "nbformat": 4,
 "nbformat_minor": 5
}
