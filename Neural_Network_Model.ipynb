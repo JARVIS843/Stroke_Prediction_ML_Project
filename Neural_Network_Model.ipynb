{
 "cells": [
  {
   "cell_type": "markdown",
   "id": "3170a5dc",
   "metadata": {},
   "source": [
    "# Project: Stroke Prediction Binary Classification\n",
    "---\n",
    "This is the part of the project that aims to perform binary classification to a [Kaggle Stroke Prediction Dataset](https://www.kaggle.com/datasets/fedesoriano/stroke-prediction-dataset) using neural network. It is recommended to run this particular notebook in a hardware that benefits from GPU accelerated Tensorflow computations. If you haven't already, you should setup CUDA with Tensorflow now following the [instructions](/README.md) I provided. Below documents the structure of the project:\n",
    "* Import necessary Libraries\n",
    "* Load the pre-downloaded dataset\n",
    "* Data preprocessing and clean up\n",
    "* Analyze features and build different models\n",
    "* Adaptive Learning Rate\n",
    "* Final notes & Reflections\n",
    "\n",
    "\n",
    "***Note**: The pre-downloaded dataset was generated on: 12/13/2024"
   ]
  },
  {
   "cell_type": "markdown",
   "id": "0dacadbc",
   "metadata": {},
   "source": [
    "## Import necessary Libraries"
   ]
  },
  {
   "cell_type": "code",
   "execution_count": 2,
   "id": "b12916c0",
   "metadata": {},
   "outputs": [
    {
     "name": "stderr",
     "output_type": "stream",
     "text": [
      "2024-12-19 03:08:02.691231: E external/local_xla/xla/stream_executor/cuda/cuda_fft.cc:477] Unable to register cuFFT factory: Attempting to register factory for plugin cuFFT when one has already been registered\n",
      "WARNING: All log messages before absl::InitializeLog() is called are written to STDERR\n",
      "E0000 00:00:1734595682.780198  525347 cuda_dnn.cc:8310] Unable to register cuDNN factory: Attempting to register factory for plugin cuDNN when one has already been registered\n",
      "E0000 00:00:1734595682.809326  525347 cuda_blas.cc:1418] Unable to register cuBLAS factory: Attempting to register factory for plugin cuBLAS when one has already been registered\n",
      "2024-12-19 03:08:02.996765: I tensorflow/core/platform/cpu_feature_guard.cc:210] This TensorFlow binary is optimized to use available CPU instructions in performance-critical operations.\n",
      "To enable the following instructions: AVX2 FMA, in other operations, rebuild TensorFlow with the appropriate compiler flags.\n"
     ]
    }
   ],
   "source": [
    "import tensorflow as tf"
   ]
  },
  {
   "cell_type": "code",
   "execution_count": 3,
   "id": "8b88e382",
   "metadata": {},
   "outputs": [],
   "source": [
    "import numpy as np\n",
    "import matplotlib\n",
    "import matplotlib.pyplot as plt"
   ]
  },
  {
   "cell_type": "code",
   "execution_count": 4,
   "id": "33c8bcf1-81fe-4dfa-bdea-68ef77346231",
   "metadata": {},
   "outputs": [],
   "source": [
    "from tensorflow.keras.models import Model, Sequential\n",
    "from tensorflow.keras.layers import Dense, Activation\n",
    "import tensorflow.keras.backend as K"
   ]
  },
  {
   "cell_type": "code",
   "execution_count": 54,
   "id": "d5ad05ca",
   "metadata": {},
   "outputs": [],
   "source": [
    "import pandas as pd\n",
    "import pickle\n",
    "import numpy as np\n",
    "import seaborn as sns\n",
    "import matplotlib.pyplot as plt"
   ]
  },
  {
   "cell_type": "code",
   "execution_count": 6,
   "id": "6198a7f6",
   "metadata": {},
   "outputs": [],
   "source": [
    "from sklearn.preprocessing import LabelEncoder,MinMaxScaler\n",
    "from sklearn.model_selection import train_test_split,cross_val_score\n",
    "from sklearn.metrics import classification_report,confusion_matrix\n",
    "from sklearn.utils import resample"
   ]
  },
  {
   "cell_type": "code",
   "execution_count": 35,
   "id": "689a8e95",
   "metadata": {},
   "outputs": [],
   "source": [
    "from sklearn.model_selection import train_test_split\n",
    "from tensorflow.keras.optimizers import Adam\n",
    "from tensorflow.keras.callbacks import EarlyStopping, ReduceLROnPlateau\n",
    "from tensorflow.keras.layers import Dropout, Input, BatchNormalization\n",
    "from tensorflow.keras.activations import swish\n",
    "from tensorflow.keras.optimizers import Adam, Nadam, RMSprop\n",
    "from tensorflow.keras.callbacks import Callback"
   ]
  },
  {
   "cell_type": "markdown",
   "id": "8a753133",
   "metadata": {},
   "source": [
    "**Note:** \n",
    "\n",
    "The import statement below is responsible for importing the necessary components for Cyclical Learning Rate (CLR). Even if you are trying to re-create this project, it's not recommended to recreate the CLR, as the library it stems from, tensorflow addons, is deprecated; and it's very difficult to get every libraries working together. The comments below provides a simple temporary fix that I don't know why nor how it works. Again, attempting CLR is **NOT RECOMMENDED** for the above reason (plus CLR made the accuracy worse anyways)."
   ]
  },
  {
   "cell_type": "code",
   "execution_count": 11,
   "id": "271f8bbc",
   "metadata": {},
   "outputs": [],
   "source": [
    "from tensorflow_addons.optimizers import CyclicalLearningRate\n",
    "\n",
    "# IMPORTANT!!!!!:\n",
    "# If you encountered the module not found problem (which I had), do the following:\n",
    "# pip install 'keras<3.0.0'\n",
    "# Run this cell again, you will encounter the same error, but this is part of the plan. Without this step, it won't work somehow...\n",
    "# pip install keras == 3.7.0\n",
    "# Run this again, and this issue somehow goes away....\n",
    "# This error was caused by keras 3.0.0 changing their internal API, but I don't now how the solution works. Perhaps Omnissiah helped me."
   ]
  },
  {
   "cell_type": "markdown",
   "id": "92f3bd05",
   "metadata": {},
   "source": [
    "## Load the pre-downloaded dataset\n",
    "The dataset is loaded from [Dataset](/Dataset/) folder to save time from downloading from Kaggle everytime."
   ]
  },
  {
   "cell_type": "code",
   "execution_count": 12,
   "id": "aa7d7b87-703a-4b4f-8f42-3d938b138ca1",
   "metadata": {},
   "outputs": [
    {
     "name": "stdout",
     "output_type": "stream",
     "text": [
      "Dataset Shape: (5110, 12)\n"
     ]
    },
    {
     "data": {
      "text/html": [
       "<div>\n",
       "<style scoped>\n",
       "    .dataframe tbody tr th:only-of-type {\n",
       "        vertical-align: middle;\n",
       "    }\n",
       "\n",
       "    .dataframe tbody tr th {\n",
       "        vertical-align: top;\n",
       "    }\n",
       "\n",
       "    .dataframe thead th {\n",
       "        text-align: right;\n",
       "    }\n",
       "</style>\n",
       "<table border=\"1\" class=\"dataframe\">\n",
       "  <thead>\n",
       "    <tr style=\"text-align: right;\">\n",
       "      <th></th>\n",
       "      <th>id</th>\n",
       "      <th>gender</th>\n",
       "      <th>age</th>\n",
       "      <th>hypertension</th>\n",
       "      <th>heart_disease</th>\n",
       "      <th>ever_married</th>\n",
       "      <th>work_type</th>\n",
       "      <th>Residence_type</th>\n",
       "      <th>avg_glucose_level</th>\n",
       "      <th>bmi</th>\n",
       "      <th>smoking_status</th>\n",
       "      <th>stroke</th>\n",
       "    </tr>\n",
       "  </thead>\n",
       "  <tbody>\n",
       "    <tr>\n",
       "      <th>0</th>\n",
       "      <td>9046</td>\n",
       "      <td>Male</td>\n",
       "      <td>67.0</td>\n",
       "      <td>0</td>\n",
       "      <td>1</td>\n",
       "      <td>Yes</td>\n",
       "      <td>Private</td>\n",
       "      <td>Urban</td>\n",
       "      <td>228.69</td>\n",
       "      <td>36.6</td>\n",
       "      <td>formerly smoked</td>\n",
       "      <td>1</td>\n",
       "    </tr>\n",
       "    <tr>\n",
       "      <th>1</th>\n",
       "      <td>51676</td>\n",
       "      <td>Female</td>\n",
       "      <td>61.0</td>\n",
       "      <td>0</td>\n",
       "      <td>0</td>\n",
       "      <td>Yes</td>\n",
       "      <td>Self-employed</td>\n",
       "      <td>Rural</td>\n",
       "      <td>202.21</td>\n",
       "      <td>NaN</td>\n",
       "      <td>never smoked</td>\n",
       "      <td>1</td>\n",
       "    </tr>\n",
       "    <tr>\n",
       "      <th>2</th>\n",
       "      <td>31112</td>\n",
       "      <td>Male</td>\n",
       "      <td>80.0</td>\n",
       "      <td>0</td>\n",
       "      <td>1</td>\n",
       "      <td>Yes</td>\n",
       "      <td>Private</td>\n",
       "      <td>Rural</td>\n",
       "      <td>105.92</td>\n",
       "      <td>32.5</td>\n",
       "      <td>never smoked</td>\n",
       "      <td>1</td>\n",
       "    </tr>\n",
       "    <tr>\n",
       "      <th>3</th>\n",
       "      <td>60182</td>\n",
       "      <td>Female</td>\n",
       "      <td>49.0</td>\n",
       "      <td>0</td>\n",
       "      <td>0</td>\n",
       "      <td>Yes</td>\n",
       "      <td>Private</td>\n",
       "      <td>Urban</td>\n",
       "      <td>171.23</td>\n",
       "      <td>34.4</td>\n",
       "      <td>smokes</td>\n",
       "      <td>1</td>\n",
       "    </tr>\n",
       "    <tr>\n",
       "      <th>4</th>\n",
       "      <td>1665</td>\n",
       "      <td>Female</td>\n",
       "      <td>79.0</td>\n",
       "      <td>1</td>\n",
       "      <td>0</td>\n",
       "      <td>Yes</td>\n",
       "      <td>Self-employed</td>\n",
       "      <td>Rural</td>\n",
       "      <td>174.12</td>\n",
       "      <td>24.0</td>\n",
       "      <td>never smoked</td>\n",
       "      <td>1</td>\n",
       "    </tr>\n",
       "  </tbody>\n",
       "</table>\n",
       "</div>"
      ],
      "text/plain": [
       "      id  gender   age  hypertension  heart_disease ever_married  \\\n",
       "0   9046    Male  67.0             0              1          Yes   \n",
       "1  51676  Female  61.0             0              0          Yes   \n",
       "2  31112    Male  80.0             0              1          Yes   \n",
       "3  60182  Female  49.0             0              0          Yes   \n",
       "4   1665  Female  79.0             1              0          Yes   \n",
       "\n",
       "       work_type Residence_type  avg_glucose_level   bmi   smoking_status  \\\n",
       "0        Private          Urban             228.69  36.6  formerly smoked   \n",
       "1  Self-employed          Rural             202.21   NaN     never smoked   \n",
       "2        Private          Rural             105.92  32.5     never smoked   \n",
       "3        Private          Urban             171.23  34.4           smokes   \n",
       "4  Self-employed          Rural             174.12  24.0     never smoked   \n",
       "\n",
       "   stroke  \n",
       "0       1  \n",
       "1       1  \n",
       "2       1  \n",
       "3       1  \n",
       "4       1  "
      ]
     },
     "execution_count": 12,
     "metadata": {},
     "output_type": "execute_result"
    }
   ],
   "source": [
    "df = pd.read_csv('Dataset/healthcare-dataset-stroke-data.csv')\n",
    "print(\"Dataset Shape:\", df.shape)\n",
    "df.head()"
   ]
  },
  {
   "cell_type": "markdown",
   "id": "25e4aa2b",
   "metadata": {},
   "source": [
    "## Data processing and clean up\n",
    "The model would be analyzed and preprocessed just as the non-neural-network part of the project."
   ]
  },
  {
   "cell_type": "code",
   "execution_count": null,
   "id": "70a0c7f8",
   "metadata": {},
   "outputs": [
    {
     "name": "stdout",
     "output_type": "stream",
     "text": [
      "<class 'pandas.core.frame.DataFrame'>\n",
      "RangeIndex: 5110 entries, 0 to 5109\n",
      "Data columns (total 12 columns):\n",
      " #   Column             Non-Null Count  Dtype  \n",
      "---  ------             --------------  -----  \n",
      " 0   id                 5110 non-null   int64  \n",
      " 1   gender             5110 non-null   object \n",
      " 2   age                5110 non-null   float64\n",
      " 3   hypertension       5110 non-null   int64  \n",
      " 4   heart_disease      5110 non-null   int64  \n",
      " 5   ever_married       5110 non-null   object \n",
      " 6   work_type          5110 non-null   object \n",
      " 7   Residence_type     5110 non-null   object \n",
      " 8   avg_glucose_level  5110 non-null   float64\n",
      " 9   bmi                4909 non-null   float64\n",
      " 10  smoking_status     5110 non-null   object \n",
      " 11  stroke             5110 non-null   int64  \n",
      "dtypes: float64(3), int64(4), object(5)\n",
      "memory usage: 479.2+ KB\n"
     ]
    }
   ],
   "source": [
    "df.info()"
   ]
  },
  {
   "cell_type": "code",
   "execution_count": 14,
   "id": "bbaa71cb",
   "metadata": {},
   "outputs": [
    {
     "data": {
      "text/plain": [
       "id                     0\n",
       "gender                 0\n",
       "age                    0\n",
       "hypertension           0\n",
       "heart_disease          0\n",
       "ever_married           0\n",
       "work_type              0\n",
       "Residence_type         0\n",
       "avg_glucose_level      0\n",
       "bmi                  201\n",
       "smoking_status         0\n",
       "stroke                 0\n",
       "dtype: int64"
      ]
     },
     "execution_count": 14,
     "metadata": {},
     "output_type": "execute_result"
    }
   ],
   "source": [
    "df.isnull().sum()"
   ]
  },
  {
   "cell_type": "markdown",
   "id": "9e4155e2",
   "metadata": {},
   "source": [
    "The following codes are exactly the same as the preprocessing for the other part of the project"
   ]
  },
  {
   "cell_type": "code",
   "execution_count": 15,
   "id": "3d3930e5",
   "metadata": {},
   "outputs": [],
   "source": [
    "df=df.drop(columns=\"id\")"
   ]
  },
  {
   "cell_type": "code",
   "execution_count": 16,
   "id": "91c4397e",
   "metadata": {},
   "outputs": [],
   "source": [
    "df[\"age_group\"]=df[\"age\"].apply(lambda x:\"Infant\" if (x>=0)&(x<=2)\n",
    "                                  else (\"Child\" if (x>2)&(x<=12)\n",
    "                                  else (\"Adolescent\"if (x>12)&(x<=18)\n",
    "                                  else (\"Young Adults\"if (x>19)&(x<=35)\n",
    "                                  else (\"Middle Aged Adults\" if (x>35)&(x<=60)\n",
    "                                  else \"Old Aged Adults\")))))"
   ]
  },
  {
   "cell_type": "code",
   "execution_count": 17,
   "id": "debe0e91",
   "metadata": {},
   "outputs": [],
   "source": [
    "df['bmi'] = df['bmi'].fillna(df.groupby([\"gender\",\"ever_married\",\"age_group\"])[\"bmi\"].transform('mean'))"
   ]
  },
  {
   "cell_type": "code",
   "execution_count": 18,
   "id": "bc40ba89",
   "metadata": {},
   "outputs": [],
   "source": [
    "df = df[(df[\"bmi\"]<66) & (df[\"bmi\"]>12)]\n",
    "df = df[(df[\"avg_glucose_level\"]>56) & (df[\"avg_glucose_level\"]<250)]\n",
    "df=df.drop(df[df[\"gender\"]==\"Other\"].index)"
   ]
  },
  {
   "cell_type": "code",
   "execution_count": 19,
   "id": "42e0ed13",
   "metadata": {},
   "outputs": [],
   "source": [
    "had_stroke = df[df[\"stroke\"]==1]\n",
    "no_stroke = df[df[\"stroke\"]==0]\n",
    "upsampled_had_stroke = resample(had_stroke,replace=True , n_samples=no_stroke.shape[0] , random_state=123 )\n",
    "upsampled_data = pd.concat([no_stroke,upsampled_had_stroke])"
   ]
  },
  {
   "cell_type": "code",
   "execution_count": 20,
   "id": "c1fb5dd7",
   "metadata": {},
   "outputs": [],
   "source": [
    "cols = ['gender','hypertension','heart_disease', 'ever_married', 'work_type', 'Residence_type','smoking_status']\n",
    "dums = pd.get_dummies(upsampled_data[cols],dtype=int)\n",
    "model_data = pd.concat([upsampled_data,dums],axis=1).drop(columns=cols)"
   ]
  },
  {
   "cell_type": "code",
   "execution_count": 21,
   "id": "20965091",
   "metadata": {},
   "outputs": [],
   "source": [
    "encoder = LabelEncoder()\n",
    "model_data[\"age_group\"] = encoder.fit_transform(model_data[\"age_group\"])"
   ]
  },
  {
   "cell_type": "code",
   "execution_count": 22,
   "id": "fc43cd1d",
   "metadata": {},
   "outputs": [],
   "source": [
    "scaler = MinMaxScaler()\n",
    "for col in ['age','avg_glucose_level','bmi']:\n",
    "    scaler.fit(model_data[[col]])\n",
    "    model_data[col]=scaler.transform(model_data[[col]])"
   ]
  },
  {
   "cell_type": "code",
   "execution_count": null,
   "id": "af1538ae",
   "metadata": {},
   "outputs": [
    {
     "data": {
      "text/html": [
       "<div>\n",
       "<style scoped>\n",
       "    .dataframe tbody tr th:only-of-type {\n",
       "        vertical-align: middle;\n",
       "    }\n",
       "\n",
       "    .dataframe tbody tr th {\n",
       "        vertical-align: top;\n",
       "    }\n",
       "\n",
       "    .dataframe thead th {\n",
       "        text-align: right;\n",
       "    }\n",
       "</style>\n",
       "<table border=\"1\" class=\"dataframe\">\n",
       "  <thead>\n",
       "    <tr style=\"text-align: right;\">\n",
       "      <th></th>\n",
       "      <th>age</th>\n",
       "      <th>avg_glucose_level</th>\n",
       "      <th>bmi</th>\n",
       "      <th>stroke</th>\n",
       "      <th>age_group</th>\n",
       "      <th>gender_Female</th>\n",
       "      <th>gender_Male</th>\n",
       "      <th>ever_married_No</th>\n",
       "      <th>ever_married_Yes</th>\n",
       "      <th>work_type_Govt_job</th>\n",
       "      <th>work_type_Never_worked</th>\n",
       "      <th>work_type_Private</th>\n",
       "      <th>work_type_Self-employed</th>\n",
       "      <th>work_type_children</th>\n",
       "      <th>Residence_type_Rural</th>\n",
       "      <th>Residence_type_Urban</th>\n",
       "      <th>smoking_status_Unknown</th>\n",
       "      <th>smoking_status_formerly smoked</th>\n",
       "      <th>smoking_status_never smoked</th>\n",
       "      <th>smoking_status_smokes</th>\n",
       "    </tr>\n",
       "  </thead>\n",
       "  <tbody>\n",
       "    <tr>\n",
       "      <th>249</th>\n",
       "      <td>0.035645</td>\n",
       "      <td>0.202080</td>\n",
       "      <td>0.108571</td>\n",
       "      <td>0</td>\n",
       "      <td>1</td>\n",
       "      <td>0</td>\n",
       "      <td>1</td>\n",
       "      <td>1</td>\n",
       "      <td>0</td>\n",
       "      <td>0</td>\n",
       "      <td>0</td>\n",
       "      <td>0</td>\n",
       "      <td>0</td>\n",
       "      <td>1</td>\n",
       "      <td>1</td>\n",
       "      <td>0</td>\n",
       "      <td>1</td>\n",
       "      <td>0</td>\n",
       "      <td>0</td>\n",
       "      <td>0</td>\n",
       "    </tr>\n",
       "    <tr>\n",
       "      <th>250</th>\n",
       "      <td>0.707031</td>\n",
       "      <td>0.165028</td>\n",
       "      <td>0.512381</td>\n",
       "      <td>0</td>\n",
       "      <td>3</td>\n",
       "      <td>0</td>\n",
       "      <td>1</td>\n",
       "      <td>0</td>\n",
       "      <td>1</td>\n",
       "      <td>0</td>\n",
       "      <td>0</td>\n",
       "      <td>1</td>\n",
       "      <td>0</td>\n",
       "      <td>0</td>\n",
       "      <td>0</td>\n",
       "      <td>1</td>\n",
       "      <td>0</td>\n",
       "      <td>0</td>\n",
       "      <td>1</td>\n",
       "      <td>0</td>\n",
       "    </tr>\n",
       "    <tr>\n",
       "      <th>251</th>\n",
       "      <td>0.096680</td>\n",
       "      <td>0.283689</td>\n",
       "      <td>0.100952</td>\n",
       "      <td>0</td>\n",
       "      <td>1</td>\n",
       "      <td>1</td>\n",
       "      <td>0</td>\n",
       "      <td>1</td>\n",
       "      <td>0</td>\n",
       "      <td>0</td>\n",
       "      <td>0</td>\n",
       "      <td>1</td>\n",
       "      <td>0</td>\n",
       "      <td>0</td>\n",
       "      <td>0</td>\n",
       "      <td>1</td>\n",
       "      <td>1</td>\n",
       "      <td>0</td>\n",
       "      <td>0</td>\n",
       "      <td>0</td>\n",
       "    </tr>\n",
       "    <tr>\n",
       "      <th>252</th>\n",
       "      <td>0.853516</td>\n",
       "      <td>0.067119</td>\n",
       "      <td>0.449524</td>\n",
       "      <td>0</td>\n",
       "      <td>4</td>\n",
       "      <td>1</td>\n",
       "      <td>0</td>\n",
       "      <td>0</td>\n",
       "      <td>1</td>\n",
       "      <td>0</td>\n",
       "      <td>0</td>\n",
       "      <td>1</td>\n",
       "      <td>0</td>\n",
       "      <td>0</td>\n",
       "      <td>1</td>\n",
       "      <td>0</td>\n",
       "      <td>0</td>\n",
       "      <td>1</td>\n",
       "      <td>0</td>\n",
       "      <td>0</td>\n",
       "    </tr>\n",
       "    <tr>\n",
       "      <th>253</th>\n",
       "      <td>0.169922</td>\n",
       "      <td>0.544452</td>\n",
       "      <td>0.129524</td>\n",
       "      <td>0</td>\n",
       "      <td>0</td>\n",
       "      <td>0</td>\n",
       "      <td>1</td>\n",
       "      <td>1</td>\n",
       "      <td>0</td>\n",
       "      <td>0</td>\n",
       "      <td>1</td>\n",
       "      <td>0</td>\n",
       "      <td>0</td>\n",
       "      <td>0</td>\n",
       "      <td>1</td>\n",
       "      <td>0</td>\n",
       "      <td>1</td>\n",
       "      <td>0</td>\n",
       "      <td>0</td>\n",
       "      <td>0</td>\n",
       "    </tr>\n",
       "    <tr>\n",
       "      <th>...</th>\n",
       "      <td>...</td>\n",
       "      <td>...</td>\n",
       "      <td>...</td>\n",
       "      <td>...</td>\n",
       "      <td>...</td>\n",
       "      <td>...</td>\n",
       "      <td>...</td>\n",
       "      <td>...</td>\n",
       "      <td>...</td>\n",
       "      <td>...</td>\n",
       "      <td>...</td>\n",
       "      <td>...</td>\n",
       "      <td>...</td>\n",
       "      <td>...</td>\n",
       "      <td>...</td>\n",
       "      <td>...</td>\n",
       "      <td>...</td>\n",
       "      <td>...</td>\n",
       "      <td>...</td>\n",
       "      <td>...</td>\n",
       "    </tr>\n",
       "    <tr>\n",
       "      <th>9</th>\n",
       "      <td>0.951172</td>\n",
       "      <td>0.012937</td>\n",
       "      <td>0.226667</td>\n",
       "      <td>1</td>\n",
       "      <td>4</td>\n",
       "      <td>1</td>\n",
       "      <td>0</td>\n",
       "      <td>0</td>\n",
       "      <td>1</td>\n",
       "      <td>0</td>\n",
       "      <td>0</td>\n",
       "      <td>1</td>\n",
       "      <td>0</td>\n",
       "      <td>0</td>\n",
       "      <td>0</td>\n",
       "      <td>1</td>\n",
       "      <td>1</td>\n",
       "      <td>0</td>\n",
       "      <td>0</td>\n",
       "      <td>0</td>\n",
       "    </tr>\n",
       "    <tr>\n",
       "      <th>229</th>\n",
       "      <td>0.975586</td>\n",
       "      <td>0.051542</td>\n",
       "      <td>0.440000</td>\n",
       "      <td>1</td>\n",
       "      <td>4</td>\n",
       "      <td>1</td>\n",
       "      <td>0</td>\n",
       "      <td>1</td>\n",
       "      <td>0</td>\n",
       "      <td>0</td>\n",
       "      <td>0</td>\n",
       "      <td>1</td>\n",
       "      <td>0</td>\n",
       "      <td>0</td>\n",
       "      <td>0</td>\n",
       "      <td>1</td>\n",
       "      <td>0</td>\n",
       "      <td>0</td>\n",
       "      <td>1</td>\n",
       "      <td>0</td>\n",
       "    </tr>\n",
       "    <tr>\n",
       "      <th>29</th>\n",
       "      <td>0.719238</td>\n",
       "      <td>0.805786</td>\n",
       "      <td>0.374660</td>\n",
       "      <td>1</td>\n",
       "      <td>3</td>\n",
       "      <td>0</td>\n",
       "      <td>1</td>\n",
       "      <td>0</td>\n",
       "      <td>1</td>\n",
       "      <td>0</td>\n",
       "      <td>0</td>\n",
       "      <td>1</td>\n",
       "      <td>0</td>\n",
       "      <td>0</td>\n",
       "      <td>1</td>\n",
       "      <td>0</td>\n",
       "      <td>0</td>\n",
       "      <td>1</td>\n",
       "      <td>0</td>\n",
       "      <td>0</td>\n",
       "    </tr>\n",
       "    <tr>\n",
       "      <th>27</th>\n",
       "      <td>0.707031</td>\n",
       "      <td>0.692248</td>\n",
       "      <td>0.374660</td>\n",
       "      <td>1</td>\n",
       "      <td>3</td>\n",
       "      <td>0</td>\n",
       "      <td>1</td>\n",
       "      <td>0</td>\n",
       "      <td>1</td>\n",
       "      <td>0</td>\n",
       "      <td>0</td>\n",
       "      <td>1</td>\n",
       "      <td>0</td>\n",
       "      <td>0</td>\n",
       "      <td>1</td>\n",
       "      <td>0</td>\n",
       "      <td>1</td>\n",
       "      <td>0</td>\n",
       "      <td>0</td>\n",
       "      <td>0</td>\n",
       "    </tr>\n",
       "    <tr>\n",
       "      <th>99</th>\n",
       "      <td>0.841309</td>\n",
       "      <td>0.138377</td>\n",
       "      <td>0.299048</td>\n",
       "      <td>1</td>\n",
       "      <td>4</td>\n",
       "      <td>1</td>\n",
       "      <td>0</td>\n",
       "      <td>0</td>\n",
       "      <td>1</td>\n",
       "      <td>1</td>\n",
       "      <td>0</td>\n",
       "      <td>0</td>\n",
       "      <td>0</td>\n",
       "      <td>0</td>\n",
       "      <td>0</td>\n",
       "      <td>1</td>\n",
       "      <td>0</td>\n",
       "      <td>0</td>\n",
       "      <td>1</td>\n",
       "      <td>0</td>\n",
       "    </tr>\n",
       "  </tbody>\n",
       "</table>\n",
       "<p>9598 rows × 20 columns</p>\n",
       "</div>"
      ],
      "text/plain": [
       "          age  avg_glucose_level       bmi  stroke  age_group  gender_Female  \\\n",
       "249  0.035645           0.202080  0.108571       0          1              0   \n",
       "250  0.707031           0.165028  0.512381       0          3              0   \n",
       "251  0.096680           0.283689  0.100952       0          1              1   \n",
       "252  0.853516           0.067119  0.449524       0          4              1   \n",
       "253  0.169922           0.544452  0.129524       0          0              0   \n",
       "..        ...                ...       ...     ...        ...            ...   \n",
       "9    0.951172           0.012937  0.226667       1          4              1   \n",
       "229  0.975586           0.051542  0.440000       1          4              1   \n",
       "29   0.719238           0.805786  0.374660       1          3              0   \n",
       "27   0.707031           0.692248  0.374660       1          3              0   \n",
       "99   0.841309           0.138377  0.299048       1          4              1   \n",
       "\n",
       "     gender_Male  ever_married_No  ever_married_Yes  work_type_Govt_job  \\\n",
       "249            1                1                 0                   0   \n",
       "250            1                0                 1                   0   \n",
       "251            0                1                 0                   0   \n",
       "252            0                0                 1                   0   \n",
       "253            1                1                 0                   0   \n",
       "..           ...              ...               ...                 ...   \n",
       "9              0                0                 1                   0   \n",
       "229            0                1                 0                   0   \n",
       "29             1                0                 1                   0   \n",
       "27             1                0                 1                   0   \n",
       "99             0                0                 1                   1   \n",
       "\n",
       "     work_type_Never_worked  work_type_Private  work_type_Self-employed  \\\n",
       "249                       0                  0                        0   \n",
       "250                       0                  1                        0   \n",
       "251                       0                  1                        0   \n",
       "252                       0                  1                        0   \n",
       "253                       1                  0                        0   \n",
       "..                      ...                ...                      ...   \n",
       "9                         0                  1                        0   \n",
       "229                       0                  1                        0   \n",
       "29                        0                  1                        0   \n",
       "27                        0                  1                        0   \n",
       "99                        0                  0                        0   \n",
       "\n",
       "     work_type_children  Residence_type_Rural  Residence_type_Urban  \\\n",
       "249                   1                     1                     0   \n",
       "250                   0                     0                     1   \n",
       "251                   0                     0                     1   \n",
       "252                   0                     1                     0   \n",
       "253                   0                     1                     0   \n",
       "..                  ...                   ...                   ...   \n",
       "9                     0                     0                     1   \n",
       "229                   0                     0                     1   \n",
       "29                    0                     1                     0   \n",
       "27                    0                     1                     0   \n",
       "99                    0                     0                     1   \n",
       "\n",
       "     smoking_status_Unknown  smoking_status_formerly smoked  \\\n",
       "249                       1                               0   \n",
       "250                       0                               0   \n",
       "251                       1                               0   \n",
       "252                       0                               1   \n",
       "253                       1                               0   \n",
       "..                      ...                             ...   \n",
       "9                         1                               0   \n",
       "229                       0                               0   \n",
       "29                        0                               1   \n",
       "27                        1                               0   \n",
       "99                        0                               0   \n",
       "\n",
       "     smoking_status_never smoked  smoking_status_smokes  \n",
       "249                            0                      0  \n",
       "250                            1                      0  \n",
       "251                            0                      0  \n",
       "252                            0                      0  \n",
       "253                            0                      0  \n",
       "..                           ...                    ...  \n",
       "9                              0                      0  \n",
       "229                            1                      0  \n",
       "29                             0                      0  \n",
       "27                             0                      0  \n",
       "99                             1                      0  \n",
       "\n",
       "[9598 rows x 20 columns]"
      ]
     },
     "execution_count": 23,
     "metadata": {},
     "output_type": "execute_result"
    }
   ],
   "source": [
    "model_data"
   ]
  },
  {
   "cell_type": "code",
   "execution_count": null,
   "id": "e27772ad",
   "metadata": {},
   "outputs": [],
   "source": []
  },
  {
   "cell_type": "markdown",
   "id": "b58ef6e7",
   "metadata": {},
   "source": [
    "## Analyze features and build different models:\n",
    "---\n",
    "\n",
    "\n",
    "\n",
    "### Current Plan:\n",
    "Neural Network with different optimizers and learning rates would be tested for the best optimizer and learning rate. Below is the Optimizers used:\n",
    "* RMSprop - adjusts the learning rate for each parameter to stabilize convergence, making it effective for noisy and imbalanced datasets\n",
    "* Nadam - incorporates Nesterov momentum for faster convergence and improved optimization, particularly in deeper networks\n",
    "* Adams - combines momentum and adaptive learning rates, providing fast and reliable convergence for a variety of deep learning tasks.\n",
    "\n",
    "### Failed Plans (tried, and does not work):\n",
    "* SGD_Momentum - Has much lower accuracy even with adaptive learning rate\n",
    "* Adagrad - Has slightly lower accuracy than Adam\n",
    "\n",
    "\n",
    "---\n",
    "\n",
    "\"I have a plan. We just need time and money.\" - Dutch poet: Van Der Linde"
   ]
  },
  {
   "cell_type": "markdown",
   "id": "ea3e0f3e",
   "metadata": {},
   "source": [
    "### Splitting the data and initalzing models"
   ]
  },
  {
   "cell_type": "code",
   "execution_count": 24,
   "id": "04f416a5",
   "metadata": {},
   "outputs": [],
   "source": [
    "X = model_data.drop(columns=\"stroke\")\n",
    "y = model_data[\"stroke\"]\n",
    "X_train,X_test,y_train,y_test = train_test_split(X,y,test_size=0.2,random_state=7,shuffle=True)"
   ]
  },
  {
   "cell_type": "markdown",
   "id": "50197fa5",
   "metadata": {},
   "source": [
    "### Define a Function to build Models with different optimizer and learning rates"
   ]
  },
  {
   "cell_type": "markdown",
   "id": "1b0a3f0a",
   "metadata": {},
   "source": [
    "I have experimented with several activations functions (ReLU, Leaky ReLU, and Sigmoid), but Swish, a smooth non-monotonic function, is the best performing one, and it also provides a more complex output.\n",
    "\n",
    "Swish is defined as: Swish (x) = x * sigmoid(x)\n",
    "\n",
    "However, one drawback of Swish is that it's prone to overfit. Hence, the following overfit prevention strategies are used:\n",
    "* Batch Normalization - Reduce dependency, improve generalization and gradient flow\n",
    "* Dropout inputs - Reduce co-adaptation, preventing reliance on certain inputs\n",
    "* Early stop (implemented in training)"
   ]
  },
  {
   "cell_type": "code",
   "execution_count": 25,
   "id": "39cede70",
   "metadata": {},
   "outputs": [],
   "source": [
    "def build_model(optimizer, learning_rate):\n",
    "    model = Sequential(name=\"Stroke_Prediction_Model\")\n",
    "    \n",
    "    # Input Layer and First Hidden Layer (256 Neurons)\n",
    "    model.add(Input(shape=(X_train.shape[1],), name='Input_Layer'))\n",
    "    model.add(Dense(256, name='Hidden_Layer_1'))\n",
    "    model.add(BatchNormalization())\n",
    "    model.add(Activation(swish))  # Swish activation\n",
    "    model.add(Dropout(0.4))  # Higher dropout for large capacity\n",
    "    \n",
    "    # Hidden Layer 2\n",
    "    model.add(Dense(128, name='Hidden_Layer_2'))\n",
    "    model.add(BatchNormalization())\n",
    "    model.add(Activation(swish))  # Swish activation\n",
    "    model.add(Dropout(0.3))\n",
    "    \n",
    "    # Hidden Layer 3\n",
    "    model.add(Dense(64, name='Hidden_Layer_3'))\n",
    "    model.add(BatchNormalization())\n",
    "    model.add(Activation(swish))  # Swish activation\n",
    "    model.add(Dropout(0.2))\n",
    "    \n",
    "    # Hidden Layer 4\n",
    "    model.add(Dense(32, name='Hidden_Layer_4'))\n",
    "    model.add(BatchNormalization())\n",
    "    model.add(Activation(swish))  # Swish activation\n",
    "    model.add(Dropout(0.15))\n",
    "    \n",
    "    # Last Hidden Layer (16 Neurons)\n",
    "    model.add(Dense(16, name='Hidden_Layer_5'))\n",
    "    model.add(BatchNormalization())\n",
    "    model.add(Activation(swish))  # Swish activation\n",
    "    model.add(Dropout(0.1))\n",
    "    \n",
    "    # Output Layer\n",
    "    model.add(Dense(1, activation='sigmoid', name='Output_Layer'))\n",
    "    \n",
    "    # Compile the model\n",
    "    optimizer_instance = optimizer(learning_rate=learning_rate)\n",
    "    model.compile(\n",
    "        optimizer=optimizer_instance,\n",
    "        loss='binary_crossentropy',\n",
    "        metrics=['accuracy']\n",
    "    )\n",
    "    return model"
   ]
  },
  {
   "cell_type": "markdown",
   "id": "b7820fcf",
   "metadata": {},
   "source": [
    "### Hyperparameter grid"
   ]
  },
  {
   "cell_type": "code",
   "execution_count": 31,
   "id": "744818f8",
   "metadata": {},
   "outputs": [],
   "source": [
    "learning_rates = [0.01, 0.001, 0.0001]\n",
    "batch_sizes = [32, 64]\n",
    "epochs_list = [50, 100]\n",
    "optimizers = {\n",
    "    \"RMSprop\": RMSprop,\n",
    "    \"Nadam\": Nadam,\n",
    "    \"Adam\": Adam,\n",
    "}"
   ]
  },
  {
   "cell_type": "markdown",
   "id": "540ff4fe",
   "metadata": {},
   "source": [
    "### Start Training\n",
    "We train all combinations of the hyperparameters and store the best configuration, history and model. To prevent overfitting, we early stop the training if validation loss stays the same for 5 epochs"
   ]
  },
  {
   "cell_type": "code",
   "execution_count": 32,
   "id": "ddd920e3",
   "metadata": {},
   "outputs": [
    {
     "name": "stdout",
     "output_type": "stream",
     "text": [
      "\n",
      "Testing Optimizer: RMSprop, LR: 0.01, Batch Size: 32, Epochs: 50\n",
      "Accuracy: 0.8687\n",
      "\n",
      "Testing Optimizer: RMSprop, LR: 0.01, Batch Size: 32, Epochs: 100\n",
      "Accuracy: 0.8641\n",
      "\n",
      "Testing Optimizer: RMSprop, LR: 0.01, Batch Size: 64, Epochs: 50\n",
      "Accuracy: 0.8302\n",
      "\n",
      "Testing Optimizer: RMSprop, LR: 0.01, Batch Size: 64, Epochs: 100\n",
      "Accuracy: 0.8448\n",
      "\n",
      "Testing Optimizer: RMSprop, LR: 0.001, Batch Size: 32, Epochs: 50\n",
      "Accuracy: 0.8604\n",
      "\n",
      "Testing Optimizer: RMSprop, LR: 0.001, Batch Size: 32, Epochs: 100\n",
      "Accuracy: 0.8620\n",
      "\n",
      "Testing Optimizer: RMSprop, LR: 0.001, Batch Size: 64, Epochs: 50\n",
      "Accuracy: 0.8531\n",
      "\n",
      "Testing Optimizer: RMSprop, LR: 0.001, Batch Size: 64, Epochs: 100\n",
      "Accuracy: 0.8427\n",
      "\n",
      "Testing Optimizer: RMSprop, LR: 0.0001, Batch Size: 32, Epochs: 50\n",
      "Accuracy: 0.7943\n",
      "\n",
      "Testing Optimizer: RMSprop, LR: 0.0001, Batch Size: 32, Epochs: 100\n",
      "Accuracy: 0.8000\n",
      "\n",
      "Testing Optimizer: RMSprop, LR: 0.0001, Batch Size: 64, Epochs: 50\n",
      "Accuracy: 0.7901\n",
      "\n",
      "Testing Optimizer: RMSprop, LR: 0.0001, Batch Size: 64, Epochs: 100\n",
      "Accuracy: 0.8073\n",
      "\n",
      "Testing Optimizer: Nadam, LR: 0.01, Batch Size: 32, Epochs: 50\n",
      "Accuracy: 0.8432\n",
      "\n",
      "Testing Optimizer: Nadam, LR: 0.01, Batch Size: 32, Epochs: 100\n",
      "Accuracy: 0.8453\n",
      "\n",
      "Testing Optimizer: Nadam, LR: 0.01, Batch Size: 64, Epochs: 50\n",
      "Accuracy: 0.8969\n",
      "\n",
      "Testing Optimizer: Nadam, LR: 0.01, Batch Size: 64, Epochs: 100\n",
      "Accuracy: 0.8677\n",
      "\n",
      "Testing Optimizer: Nadam, LR: 0.001, Batch Size: 32, Epochs: 50\n",
      "Accuracy: 0.8599\n",
      "\n",
      "Testing Optimizer: Nadam, LR: 0.001, Batch Size: 32, Epochs: 100\n",
      "Accuracy: 0.8453\n",
      "\n",
      "Testing Optimizer: Nadam, LR: 0.001, Batch Size: 64, Epochs: 50\n",
      "Accuracy: 0.8510\n",
      "\n",
      "Testing Optimizer: Nadam, LR: 0.001, Batch Size: 64, Epochs: 100\n",
      "Accuracy: 0.8339\n",
      "\n",
      "Testing Optimizer: Nadam, LR: 0.0001, Batch Size: 32, Epochs: 50\n",
      "Accuracy: 0.8036\n",
      "\n",
      "Testing Optimizer: Nadam, LR: 0.0001, Batch Size: 32, Epochs: 100\n",
      "Accuracy: 0.8099\n",
      "\n",
      "Testing Optimizer: Nadam, LR: 0.0001, Batch Size: 64, Epochs: 50\n",
      "Accuracy: 0.8005\n",
      "\n",
      "Testing Optimizer: Nadam, LR: 0.0001, Batch Size: 64, Epochs: 100\n",
      "Accuracy: 0.8161\n",
      "\n",
      "Testing Optimizer: Adam, LR: 0.01, Batch Size: 32, Epochs: 50\n",
      "Accuracy: 0.8047\n",
      "\n",
      "Testing Optimizer: Adam, LR: 0.01, Batch Size: 32, Epochs: 100\n",
      "Accuracy: 0.8458\n",
      "\n",
      "Testing Optimizer: Adam, LR: 0.01, Batch Size: 64, Epochs: 50\n",
      "Accuracy: 0.8693\n",
      "\n",
      "Testing Optimizer: Adam, LR: 0.01, Batch Size: 64, Epochs: 100\n",
      "Accuracy: 0.8781\n",
      "\n",
      "Testing Optimizer: Adam, LR: 0.001, Batch Size: 32, Epochs: 50\n",
      "Accuracy: 0.8484\n",
      "\n",
      "Testing Optimizer: Adam, LR: 0.001, Batch Size: 32, Epochs: 100\n",
      "Accuracy: 0.8573\n",
      "\n",
      "Testing Optimizer: Adam, LR: 0.001, Batch Size: 64, Epochs: 50\n",
      "Accuracy: 0.8448\n",
      "\n",
      "Testing Optimizer: Adam, LR: 0.001, Batch Size: 64, Epochs: 100\n",
      "Accuracy: 0.8448\n",
      "\n",
      "Testing Optimizer: Adam, LR: 0.0001, Batch Size: 32, Epochs: 50\n",
      "Accuracy: 0.7932\n",
      "\n",
      "Testing Optimizer: Adam, LR: 0.0001, Batch Size: 32, Epochs: 100\n",
      "Accuracy: 0.8099\n",
      "\n",
      "Testing Optimizer: Adam, LR: 0.0001, Batch Size: 64, Epochs: 50\n",
      "Accuracy: 0.7922\n",
      "\n",
      "Testing Optimizer: Adam, LR: 0.0001, Batch Size: 64, Epochs: 100\n",
      "Accuracy: 0.8130\n",
      "\n",
      "Best Hyperparameter Combination:\n",
      "Optimizer: Nadam, Learning Rate: 0.01, Batch Size: 64, Epochs: 50\n",
      "Best Test Accuracy: 0.8969\n",
      "\u001b[1m60/60\u001b[0m \u001b[32m━━━━━━━━━━━━━━━━━━━━\u001b[0m\u001b[37m\u001b[0m \u001b[1m0s\u001b[0m 3ms/step\n",
      "\n",
      "Confusion Matrix:\n",
      "[[795 192]\n",
      " [  6 927]]\n",
      "\n",
      "Classification Report:\n",
      "              precision    recall  f1-score   support\n",
      "\n",
      "           0       0.99      0.81      0.89       987\n",
      "           1       0.83      0.99      0.90       933\n",
      "\n",
      "    accuracy                           0.90      1920\n",
      "   macro avg       0.91      0.90      0.90      1920\n",
      "weighted avg       0.91      0.90      0.90      1920\n",
      "\n"
     ]
    }
   ],
   "source": [
    "# Grid search to find the best combination\n",
    "best_combination = None\n",
    "best_accuracy = 0\n",
    "best_model = None\n",
    "best_history = None\n",
    "\n",
    "for optimizer_name, optimizer in optimizers.items():\n",
    "    for lr in learning_rates:\n",
    "        for batch_size in batch_sizes:\n",
    "            for epochs in epochs_list:\n",
    "                print(f\"\\nTesting Optimizer: {optimizer_name}, LR: {lr}, Batch Size: {batch_size}, Epochs: {epochs}\")\n",
    "                model = build_model(optimizer, lr)\n",
    "                early_stop = EarlyStopping(monitor='val_loss', patience=5, restore_best_weights=True)\n",
    "                \n",
    "                history = model.fit(\n",
    "                    X_train, y_train, \n",
    "                    validation_split=0.2, \n",
    "                    epochs=epochs, \n",
    "                    batch_size=batch_size, \n",
    "                    callbacks=[early_stop],\n",
    "                    verbose=0  # Suppress output for clarity\n",
    "                )\n",
    "                \n",
    "                # Evaluate on the test set\n",
    "                loss, accuracy = model.evaluate(X_test, y_test, verbose=0)\n",
    "                print(f\"Accuracy: {accuracy:.4f}\")\n",
    "                \n",
    "                # Save the best model and hyperparameters\n",
    "                if accuracy > best_accuracy:\n",
    "                    best_accuracy = accuracy\n",
    "                    best_combination = (optimizer_name, lr, batch_size, epochs)\n",
    "                    best_model = model\n",
    "                    best_history = history\n",
    "\n",
    "# Final results\n",
    "print(\"\\nBest Hyperparameter Combination:\")\n",
    "print(f\"Optimizer: {best_combination[0]}, Learning Rate: {best_combination[1]}, Batch Size: {best_combination[2]}, Epochs: {best_combination[3]}\")\n",
    "print(f\"Best Test Accuracy: {best_accuracy:.4f}\")\n",
    "\n",
    "# Evaluate the best model\n",
    "y_pred = (best_model.predict(X_test) > 0.5).astype(\"int32\")\n",
    "print(\"\\nConfusion Matrix:\")\n",
    "print(confusion_matrix(y_test, y_pred))\n",
    "print(\"\\nClassification Report:\")\n",
    "print(classification_report(y_test, y_pred))"
   ]
  },
  {
   "cell_type": "markdown",
   "id": "e62b9b19",
   "metadata": {},
   "source": [
    "Here's the best model"
   ]
  },
  {
   "cell_type": "code",
   "execution_count": 58,
   "id": "5e2fc00c",
   "metadata": {},
   "outputs": [
    {
     "data": {
      "text/html": [
       "<pre style=\"white-space:pre;overflow-x:auto;line-height:normal;font-family:Menlo,'DejaVu Sans Mono',consolas,'Courier New',monospace\"><span style=\"font-weight: bold\">Model: \"Stroke_Prediction_Model\"</span>\n",
       "</pre>\n"
      ],
      "text/plain": [
       "\u001b[1mModel: \"Stroke_Prediction_Model\"\u001b[0m\n"
      ]
     },
     "metadata": {},
     "output_type": "display_data"
    },
    {
     "data": {
      "text/html": [
       "<pre style=\"white-space:pre;overflow-x:auto;line-height:normal;font-family:Menlo,'DejaVu Sans Mono',consolas,'Courier New',monospace\">┏━━━━━━━━━━━━━━━━━━━━━━━━━━━━━━━━━┳━━━━━━━━━━━━━━━━━━━━━━━━┳━━━━━━━━━━━━━━━┓\n",
       "┃<span style=\"font-weight: bold\"> Layer (type)                    </span>┃<span style=\"font-weight: bold\"> Output Shape           </span>┃<span style=\"font-weight: bold\">       Param # </span>┃\n",
       "┡━━━━━━━━━━━━━━━━━━━━━━━━━━━━━━━━━╇━━━━━━━━━━━━━━━━━━━━━━━━╇━━━━━━━━━━━━━━━┩\n",
       "│ Hidden_Layer_1 (<span style=\"color: #0087ff; text-decoration-color: #0087ff\">Dense</span>)          │ (<span style=\"color: #00d7ff; text-decoration-color: #00d7ff\">None</span>, <span style=\"color: #00af00; text-decoration-color: #00af00\">256</span>)            │         <span style=\"color: #00af00; text-decoration-color: #00af00\">5,120</span> │\n",
       "├─────────────────────────────────┼────────────────────────┼───────────────┤\n",
       "│ batch_normalization_265         │ (<span style=\"color: #00d7ff; text-decoration-color: #00d7ff\">None</span>, <span style=\"color: #00af00; text-decoration-color: #00af00\">256</span>)            │         <span style=\"color: #00af00; text-decoration-color: #00af00\">1,024</span> │\n",
       "│ (<span style=\"color: #0087ff; text-decoration-color: #0087ff\">BatchNormalization</span>)            │                        │               │\n",
       "├─────────────────────────────────┼────────────────────────┼───────────────┤\n",
       "│ activation_265 (<span style=\"color: #0087ff; text-decoration-color: #0087ff\">Activation</span>)     │ (<span style=\"color: #00d7ff; text-decoration-color: #00d7ff\">None</span>, <span style=\"color: #00af00; text-decoration-color: #00af00\">256</span>)            │             <span style=\"color: #00af00; text-decoration-color: #00af00\">0</span> │\n",
       "├─────────────────────────────────┼────────────────────────┼───────────────┤\n",
       "│ dropout_265 (<span style=\"color: #0087ff; text-decoration-color: #0087ff\">Dropout</span>)           │ (<span style=\"color: #00d7ff; text-decoration-color: #00d7ff\">None</span>, <span style=\"color: #00af00; text-decoration-color: #00af00\">256</span>)            │             <span style=\"color: #00af00; text-decoration-color: #00af00\">0</span> │\n",
       "├─────────────────────────────────┼────────────────────────┼───────────────┤\n",
       "│ Hidden_Layer_2 (<span style=\"color: #0087ff; text-decoration-color: #0087ff\">Dense</span>)          │ (<span style=\"color: #00d7ff; text-decoration-color: #00d7ff\">None</span>, <span style=\"color: #00af00; text-decoration-color: #00af00\">128</span>)            │        <span style=\"color: #00af00; text-decoration-color: #00af00\">32,896</span> │\n",
       "├─────────────────────────────────┼────────────────────────┼───────────────┤\n",
       "│ batch_normalization_266         │ (<span style=\"color: #00d7ff; text-decoration-color: #00d7ff\">None</span>, <span style=\"color: #00af00; text-decoration-color: #00af00\">128</span>)            │           <span style=\"color: #00af00; text-decoration-color: #00af00\">512</span> │\n",
       "│ (<span style=\"color: #0087ff; text-decoration-color: #0087ff\">BatchNormalization</span>)            │                        │               │\n",
       "├─────────────────────────────────┼────────────────────────┼───────────────┤\n",
       "│ activation_266 (<span style=\"color: #0087ff; text-decoration-color: #0087ff\">Activation</span>)     │ (<span style=\"color: #00d7ff; text-decoration-color: #00d7ff\">None</span>, <span style=\"color: #00af00; text-decoration-color: #00af00\">128</span>)            │             <span style=\"color: #00af00; text-decoration-color: #00af00\">0</span> │\n",
       "├─────────────────────────────────┼────────────────────────┼───────────────┤\n",
       "│ dropout_266 (<span style=\"color: #0087ff; text-decoration-color: #0087ff\">Dropout</span>)           │ (<span style=\"color: #00d7ff; text-decoration-color: #00d7ff\">None</span>, <span style=\"color: #00af00; text-decoration-color: #00af00\">128</span>)            │             <span style=\"color: #00af00; text-decoration-color: #00af00\">0</span> │\n",
       "├─────────────────────────────────┼────────────────────────┼───────────────┤\n",
       "│ Hidden_Layer_3 (<span style=\"color: #0087ff; text-decoration-color: #0087ff\">Dense</span>)          │ (<span style=\"color: #00d7ff; text-decoration-color: #00d7ff\">None</span>, <span style=\"color: #00af00; text-decoration-color: #00af00\">64</span>)             │         <span style=\"color: #00af00; text-decoration-color: #00af00\">8,256</span> │\n",
       "├─────────────────────────────────┼────────────────────────┼───────────────┤\n",
       "│ batch_normalization_267         │ (<span style=\"color: #00d7ff; text-decoration-color: #00d7ff\">None</span>, <span style=\"color: #00af00; text-decoration-color: #00af00\">64</span>)             │           <span style=\"color: #00af00; text-decoration-color: #00af00\">256</span> │\n",
       "│ (<span style=\"color: #0087ff; text-decoration-color: #0087ff\">BatchNormalization</span>)            │                        │               │\n",
       "├─────────────────────────────────┼────────────────────────┼───────────────┤\n",
       "│ activation_267 (<span style=\"color: #0087ff; text-decoration-color: #0087ff\">Activation</span>)     │ (<span style=\"color: #00d7ff; text-decoration-color: #00d7ff\">None</span>, <span style=\"color: #00af00; text-decoration-color: #00af00\">64</span>)             │             <span style=\"color: #00af00; text-decoration-color: #00af00\">0</span> │\n",
       "├─────────────────────────────────┼────────────────────────┼───────────────┤\n",
       "│ dropout_267 (<span style=\"color: #0087ff; text-decoration-color: #0087ff\">Dropout</span>)           │ (<span style=\"color: #00d7ff; text-decoration-color: #00d7ff\">None</span>, <span style=\"color: #00af00; text-decoration-color: #00af00\">64</span>)             │             <span style=\"color: #00af00; text-decoration-color: #00af00\">0</span> │\n",
       "├─────────────────────────────────┼────────────────────────┼───────────────┤\n",
       "│ Hidden_Layer_4 (<span style=\"color: #0087ff; text-decoration-color: #0087ff\">Dense</span>)          │ (<span style=\"color: #00d7ff; text-decoration-color: #00d7ff\">None</span>, <span style=\"color: #00af00; text-decoration-color: #00af00\">32</span>)             │         <span style=\"color: #00af00; text-decoration-color: #00af00\">2,080</span> │\n",
       "├─────────────────────────────────┼────────────────────────┼───────────────┤\n",
       "│ batch_normalization_268         │ (<span style=\"color: #00d7ff; text-decoration-color: #00d7ff\">None</span>, <span style=\"color: #00af00; text-decoration-color: #00af00\">32</span>)             │           <span style=\"color: #00af00; text-decoration-color: #00af00\">128</span> │\n",
       "│ (<span style=\"color: #0087ff; text-decoration-color: #0087ff\">BatchNormalization</span>)            │                        │               │\n",
       "├─────────────────────────────────┼────────────────────────┼───────────────┤\n",
       "│ activation_268 (<span style=\"color: #0087ff; text-decoration-color: #0087ff\">Activation</span>)     │ (<span style=\"color: #00d7ff; text-decoration-color: #00d7ff\">None</span>, <span style=\"color: #00af00; text-decoration-color: #00af00\">32</span>)             │             <span style=\"color: #00af00; text-decoration-color: #00af00\">0</span> │\n",
       "├─────────────────────────────────┼────────────────────────┼───────────────┤\n",
       "│ dropout_268 (<span style=\"color: #0087ff; text-decoration-color: #0087ff\">Dropout</span>)           │ (<span style=\"color: #00d7ff; text-decoration-color: #00d7ff\">None</span>, <span style=\"color: #00af00; text-decoration-color: #00af00\">32</span>)             │             <span style=\"color: #00af00; text-decoration-color: #00af00\">0</span> │\n",
       "├─────────────────────────────────┼────────────────────────┼───────────────┤\n",
       "│ Hidden_Layer_5 (<span style=\"color: #0087ff; text-decoration-color: #0087ff\">Dense</span>)          │ (<span style=\"color: #00d7ff; text-decoration-color: #00d7ff\">None</span>, <span style=\"color: #00af00; text-decoration-color: #00af00\">16</span>)             │           <span style=\"color: #00af00; text-decoration-color: #00af00\">528</span> │\n",
       "├─────────────────────────────────┼────────────────────────┼───────────────┤\n",
       "│ batch_normalization_269         │ (<span style=\"color: #00d7ff; text-decoration-color: #00d7ff\">None</span>, <span style=\"color: #00af00; text-decoration-color: #00af00\">16</span>)             │            <span style=\"color: #00af00; text-decoration-color: #00af00\">64</span> │\n",
       "│ (<span style=\"color: #0087ff; text-decoration-color: #0087ff\">BatchNormalization</span>)            │                        │               │\n",
       "├─────────────────────────────────┼────────────────────────┼───────────────┤\n",
       "│ activation_269 (<span style=\"color: #0087ff; text-decoration-color: #0087ff\">Activation</span>)     │ (<span style=\"color: #00d7ff; text-decoration-color: #00d7ff\">None</span>, <span style=\"color: #00af00; text-decoration-color: #00af00\">16</span>)             │             <span style=\"color: #00af00; text-decoration-color: #00af00\">0</span> │\n",
       "├─────────────────────────────────┼────────────────────────┼───────────────┤\n",
       "│ dropout_269 (<span style=\"color: #0087ff; text-decoration-color: #0087ff\">Dropout</span>)           │ (<span style=\"color: #00d7ff; text-decoration-color: #00d7ff\">None</span>, <span style=\"color: #00af00; text-decoration-color: #00af00\">16</span>)             │             <span style=\"color: #00af00; text-decoration-color: #00af00\">0</span> │\n",
       "├─────────────────────────────────┼────────────────────────┼───────────────┤\n",
       "│ Output_Layer (<span style=\"color: #0087ff; text-decoration-color: #0087ff\">Dense</span>)            │ (<span style=\"color: #00d7ff; text-decoration-color: #00d7ff\">None</span>, <span style=\"color: #00af00; text-decoration-color: #00af00\">1</span>)              │            <span style=\"color: #00af00; text-decoration-color: #00af00\">17</span> │\n",
       "└─────────────────────────────────┴────────────────────────┴───────────────┘\n",
       "</pre>\n"
      ],
      "text/plain": [
       "┏━━━━━━━━━━━━━━━━━━━━━━━━━━━━━━━━━┳━━━━━━━━━━━━━━━━━━━━━━━━┳━━━━━━━━━━━━━━━┓\n",
       "┃\u001b[1m \u001b[0m\u001b[1mLayer (type)                   \u001b[0m\u001b[1m \u001b[0m┃\u001b[1m \u001b[0m\u001b[1mOutput Shape          \u001b[0m\u001b[1m \u001b[0m┃\u001b[1m \u001b[0m\u001b[1m      Param #\u001b[0m\u001b[1m \u001b[0m┃\n",
       "┡━━━━━━━━━━━━━━━━━━━━━━━━━━━━━━━━━╇━━━━━━━━━━━━━━━━━━━━━━━━╇━━━━━━━━━━━━━━━┩\n",
       "│ Hidden_Layer_1 (\u001b[38;5;33mDense\u001b[0m)          │ (\u001b[38;5;45mNone\u001b[0m, \u001b[38;5;34m256\u001b[0m)            │         \u001b[38;5;34m5,120\u001b[0m │\n",
       "├─────────────────────────────────┼────────────────────────┼───────────────┤\n",
       "│ batch_normalization_265         │ (\u001b[38;5;45mNone\u001b[0m, \u001b[38;5;34m256\u001b[0m)            │         \u001b[38;5;34m1,024\u001b[0m │\n",
       "│ (\u001b[38;5;33mBatchNormalization\u001b[0m)            │                        │               │\n",
       "├─────────────────────────────────┼────────────────────────┼───────────────┤\n",
       "│ activation_265 (\u001b[38;5;33mActivation\u001b[0m)     │ (\u001b[38;5;45mNone\u001b[0m, \u001b[38;5;34m256\u001b[0m)            │             \u001b[38;5;34m0\u001b[0m │\n",
       "├─────────────────────────────────┼────────────────────────┼───────────────┤\n",
       "│ dropout_265 (\u001b[38;5;33mDropout\u001b[0m)           │ (\u001b[38;5;45mNone\u001b[0m, \u001b[38;5;34m256\u001b[0m)            │             \u001b[38;5;34m0\u001b[0m │\n",
       "├─────────────────────────────────┼────────────────────────┼───────────────┤\n",
       "│ Hidden_Layer_2 (\u001b[38;5;33mDense\u001b[0m)          │ (\u001b[38;5;45mNone\u001b[0m, \u001b[38;5;34m128\u001b[0m)            │        \u001b[38;5;34m32,896\u001b[0m │\n",
       "├─────────────────────────────────┼────────────────────────┼───────────────┤\n",
       "│ batch_normalization_266         │ (\u001b[38;5;45mNone\u001b[0m, \u001b[38;5;34m128\u001b[0m)            │           \u001b[38;5;34m512\u001b[0m │\n",
       "│ (\u001b[38;5;33mBatchNormalization\u001b[0m)            │                        │               │\n",
       "├─────────────────────────────────┼────────────────────────┼───────────────┤\n",
       "│ activation_266 (\u001b[38;5;33mActivation\u001b[0m)     │ (\u001b[38;5;45mNone\u001b[0m, \u001b[38;5;34m128\u001b[0m)            │             \u001b[38;5;34m0\u001b[0m │\n",
       "├─────────────────────────────────┼────────────────────────┼───────────────┤\n",
       "│ dropout_266 (\u001b[38;5;33mDropout\u001b[0m)           │ (\u001b[38;5;45mNone\u001b[0m, \u001b[38;5;34m128\u001b[0m)            │             \u001b[38;5;34m0\u001b[0m │\n",
       "├─────────────────────────────────┼────────────────────────┼───────────────┤\n",
       "│ Hidden_Layer_3 (\u001b[38;5;33mDense\u001b[0m)          │ (\u001b[38;5;45mNone\u001b[0m, \u001b[38;5;34m64\u001b[0m)             │         \u001b[38;5;34m8,256\u001b[0m │\n",
       "├─────────────────────────────────┼────────────────────────┼───────────────┤\n",
       "│ batch_normalization_267         │ (\u001b[38;5;45mNone\u001b[0m, \u001b[38;5;34m64\u001b[0m)             │           \u001b[38;5;34m256\u001b[0m │\n",
       "│ (\u001b[38;5;33mBatchNormalization\u001b[0m)            │                        │               │\n",
       "├─────────────────────────────────┼────────────────────────┼───────────────┤\n",
       "│ activation_267 (\u001b[38;5;33mActivation\u001b[0m)     │ (\u001b[38;5;45mNone\u001b[0m, \u001b[38;5;34m64\u001b[0m)             │             \u001b[38;5;34m0\u001b[0m │\n",
       "├─────────────────────────────────┼────────────────────────┼───────────────┤\n",
       "│ dropout_267 (\u001b[38;5;33mDropout\u001b[0m)           │ (\u001b[38;5;45mNone\u001b[0m, \u001b[38;5;34m64\u001b[0m)             │             \u001b[38;5;34m0\u001b[0m │\n",
       "├─────────────────────────────────┼────────────────────────┼───────────────┤\n",
       "│ Hidden_Layer_4 (\u001b[38;5;33mDense\u001b[0m)          │ (\u001b[38;5;45mNone\u001b[0m, \u001b[38;5;34m32\u001b[0m)             │         \u001b[38;5;34m2,080\u001b[0m │\n",
       "├─────────────────────────────────┼────────────────────────┼───────────────┤\n",
       "│ batch_normalization_268         │ (\u001b[38;5;45mNone\u001b[0m, \u001b[38;5;34m32\u001b[0m)             │           \u001b[38;5;34m128\u001b[0m │\n",
       "│ (\u001b[38;5;33mBatchNormalization\u001b[0m)            │                        │               │\n",
       "├─────────────────────────────────┼────────────────────────┼───────────────┤\n",
       "│ activation_268 (\u001b[38;5;33mActivation\u001b[0m)     │ (\u001b[38;5;45mNone\u001b[0m, \u001b[38;5;34m32\u001b[0m)             │             \u001b[38;5;34m0\u001b[0m │\n",
       "├─────────────────────────────────┼────────────────────────┼───────────────┤\n",
       "│ dropout_268 (\u001b[38;5;33mDropout\u001b[0m)           │ (\u001b[38;5;45mNone\u001b[0m, \u001b[38;5;34m32\u001b[0m)             │             \u001b[38;5;34m0\u001b[0m │\n",
       "├─────────────────────────────────┼────────────────────────┼───────────────┤\n",
       "│ Hidden_Layer_5 (\u001b[38;5;33mDense\u001b[0m)          │ (\u001b[38;5;45mNone\u001b[0m, \u001b[38;5;34m16\u001b[0m)             │           \u001b[38;5;34m528\u001b[0m │\n",
       "├─────────────────────────────────┼────────────────────────┼───────────────┤\n",
       "│ batch_normalization_269         │ (\u001b[38;5;45mNone\u001b[0m, \u001b[38;5;34m16\u001b[0m)             │            \u001b[38;5;34m64\u001b[0m │\n",
       "│ (\u001b[38;5;33mBatchNormalization\u001b[0m)            │                        │               │\n",
       "├─────────────────────────────────┼────────────────────────┼───────────────┤\n",
       "│ activation_269 (\u001b[38;5;33mActivation\u001b[0m)     │ (\u001b[38;5;45mNone\u001b[0m, \u001b[38;5;34m16\u001b[0m)             │             \u001b[38;5;34m0\u001b[0m │\n",
       "├─────────────────────────────────┼────────────────────────┼───────────────┤\n",
       "│ dropout_269 (\u001b[38;5;33mDropout\u001b[0m)           │ (\u001b[38;5;45mNone\u001b[0m, \u001b[38;5;34m16\u001b[0m)             │             \u001b[38;5;34m0\u001b[0m │\n",
       "├─────────────────────────────────┼────────────────────────┼───────────────┤\n",
       "│ Output_Layer (\u001b[38;5;33mDense\u001b[0m)            │ (\u001b[38;5;45mNone\u001b[0m, \u001b[38;5;34m1\u001b[0m)              │            \u001b[38;5;34m17\u001b[0m │\n",
       "└─────────────────────────────────┴────────────────────────┴───────────────┘\n"
      ]
     },
     "metadata": {},
     "output_type": "display_data"
    },
    {
     "data": {
      "text/html": [
       "<pre style=\"white-space:pre;overflow-x:auto;line-height:normal;font-family:Menlo,'DejaVu Sans Mono',consolas,'Courier New',monospace\"><span style=\"font-weight: bold\"> Total params: </span><span style=\"color: #00af00; text-decoration-color: #00af00\">150,662</span> (588.53 KB)\n",
       "</pre>\n"
      ],
      "text/plain": [
       "\u001b[1m Total params: \u001b[0m\u001b[38;5;34m150,662\u001b[0m (588.53 KB)\n"
      ]
     },
     "metadata": {},
     "output_type": "display_data"
    },
    {
     "data": {
      "text/html": [
       "<pre style=\"white-space:pre;overflow-x:auto;line-height:normal;font-family:Menlo,'DejaVu Sans Mono',consolas,'Courier New',monospace\"><span style=\"font-weight: bold\"> Trainable params: </span><span style=\"color: #00af00; text-decoration-color: #00af00\">49,889</span> (194.88 KB)\n",
       "</pre>\n"
      ],
      "text/plain": [
       "\u001b[1m Trainable params: \u001b[0m\u001b[38;5;34m49,889\u001b[0m (194.88 KB)\n"
      ]
     },
     "metadata": {},
     "output_type": "display_data"
    },
    {
     "data": {
      "text/html": [
       "<pre style=\"white-space:pre;overflow-x:auto;line-height:normal;font-family:Menlo,'DejaVu Sans Mono',consolas,'Courier New',monospace\"><span style=\"font-weight: bold\"> Non-trainable params: </span><span style=\"color: #00af00; text-decoration-color: #00af00\">992</span> (3.88 KB)\n",
       "</pre>\n"
      ],
      "text/plain": [
       "\u001b[1m Non-trainable params: \u001b[0m\u001b[38;5;34m992\u001b[0m (3.88 KB)\n"
      ]
     },
     "metadata": {},
     "output_type": "display_data"
    },
    {
     "data": {
      "text/html": [
       "<pre style=\"white-space:pre;overflow-x:auto;line-height:normal;font-family:Menlo,'DejaVu Sans Mono',consolas,'Courier New',monospace\"><span style=\"font-weight: bold\"> Optimizer params: </span><span style=\"color: #00af00; text-decoration-color: #00af00\">99,781</span> (389.77 KB)\n",
       "</pre>\n"
      ],
      "text/plain": [
       "\u001b[1m Optimizer params: \u001b[0m\u001b[38;5;34m99,781\u001b[0m (389.77 KB)\n"
      ]
     },
     "metadata": {},
     "output_type": "display_data"
    }
   ],
   "source": [
    "best_model.summary()"
   ]
  },
  {
   "cell_type": "markdown",
   "id": "59939db0",
   "metadata": {},
   "source": [
    "### Accuracy Analysis\n",
    "Let's plot Validation Accuracy over epochs and Losses over epochs!!!"
   ]
  },
  {
   "cell_type": "code",
   "execution_count": 33,
   "id": "206f2c1b",
   "metadata": {},
   "outputs": [
    {
     "data": {
      "image/png": "[encoded data removed]",
      "text/plain": [
       "<Figure size 1000x500 with 1 Axes>"
      ]
     },
     "metadata": {},
     "output_type": "display_data"
    },
    {
     "data": {
      "image/png": "[encoded data removed]",
      "text/plain": [
       "<Figure size 1000x500 with 1 Axes>"
      ]
     },
     "metadata": {},
     "output_type": "display_data"
    }
   ],
   "source": [
    "# Extract values from history\n",
    "val_accuracy = best_history.history['val_accuracy']\n",
    "train_loss = best_history.history['loss']\n",
    "val_loss = best_history.history['val_loss']\n",
    "\n",
    "# Create epochs range\n",
    "epochs_range = range(1, len(val_accuracy) + 1)\n",
    "\n",
    "# Plot validation accuracy over epochs\n",
    "plt.figure(figsize=(10, 5))\n",
    "plt.plot(epochs_range, val_accuracy, label='Validation Accuracy', color='green')\n",
    "plt.title('Validation Accuracy Over Epochs')\n",
    "plt.xlabel('Epochs')\n",
    "plt.ylabel('Accuracy')\n",
    "plt.legend()\n",
    "plt.grid()\n",
    "plt.show()\n",
    "\n",
    "# Plot training and validation loss over epochs\n",
    "plt.figure(figsize=(10, 5))\n",
    "plt.plot(epochs_range, train_loss, label='Training Loss', color='blue')\n",
    "plt.plot(epochs_range, val_loss, label='Validation Loss', color='orange')\n",
    "plt.title('Training and Validation Loss Over Epochs')\n",
    "plt.xlabel('Epochs')\n",
    "plt.ylabel('Loss')\n",
    "plt.legend()\n",
    "plt.grid()\n",
    "plt.show()"
   ]
  },
  {
   "cell_type": "markdown",
   "id": "7c1c0d89",
   "metadata": {},
   "source": [
    "**Analysis Summary**\n",
    "\n",
    "From the first graph, it can be seen that the validation accuracy increases over epochs, as expected; and it gradually reaches a plateau around 40 - 50 epochs. It is totally reasonable that our best model is trained with 50 epochs instead of 100 epochs (in fact, the same configuration but with 100 epochs perform 3% worse in terms of accuracy), since models with high epochs tends to overfit. Another interesting fact, before the \"verbose\" setting was turned off, it was observed that, due to the early stop mechanism, models that were supposed to be trained for 100 epochs were, in fact, only trained for 60 - 70 epochs.\n",
    "\n",
    "From the second graph, it's observable that the training loss and validation loss curves are overlapping, indicating the effectiveness of our overfitting prevention strategies. Nice work!!!|"
   ]
  },
  {
   "cell_type": "markdown",
   "id": "70b1e6f1",
   "metadata": {},
   "source": [
    "## Adaptive Learning Rate\n",
    "Great, we have now figured out which configuration produces the best model. Technically we are done here, but I just want to test different adaptive learning rate strategies and see if we can further improve the accuracies of our models.\n",
    "\n",
    "Below is the strategies to be employed:\n",
    "* Reduce Learning Rate on Plateau - [Learn More](https://www.tensorflow.org/api_docs/python/tf/keras/callbacks/ReduceLROnPlateau)\n",
    "* Cyclical Learning Rate (CLR) - [Learn More](https://www.tensorflow.org/addons/tutorials/optimizers_cyclicallearningrate)\n",
    "\n",
    "***Note:** yes, I am aware that all of the optimizers used come with their own adaptive learning rate mechanisms. The point of this section of the project is to attempt to devise a custom adaptive LR scheduler to further improve the accuracy of the best model (Nadam), and that of the second best model (RMSprop). And why do I want to improve the accuracy of the RMSprop model? It's because it produces the best accuracy on the basic setup, 0.01 LR, 32 batch size, and 50 epochs, and this optimizer itself is sensitive to learning rate changes. Hence, I just want to see if a better adaptive LR strategy could improve its performance."
   ]
  },
  {
   "cell_type": "markdown",
   "id": "63ec31d4",
   "metadata": {},
   "source": [
    "### Train with Reduce LR On Plateau (Best Model)"
   ]
  },
  {
   "cell_type": "code",
   "execution_count": 40,
   "id": "fe15c0ed",
   "metadata": {},
   "outputs": [
    {
     "name": "stdout",
     "output_type": "stream",
     "text": [
      "\n",
      "Best Hyperparameter Combination:\n",
      "Optimizer: Nadam, Learning Rate: 0.01, Batch Size: 64, Epochs: 50\n",
      "Best Test Accuracy: 0.8969\n",
      "\n",
      "Training with ReduceLROnPlateau...\n",
      "\n",
      "Epoch 12: ReduceLROnPlateau reducing learning rate to 0.004999999888241291.\n",
      "\n",
      "Epoch 20: ReduceLROnPlateau reducing learning rate to 0.0024999999441206455.\n",
      "\n",
      "Epoch 30: ReduceLROnPlateau reducing learning rate to 0.0012499999720603228.\n",
      "\n",
      "Epoch 35: ReduceLROnPlateau reducing learning rate to 0.0006249999860301614.\n",
      "\n",
      "Epoch 50: ReduceLROnPlateau reducing learning rate to 0.0003124999930150807.\n",
      "ReduceLROnPlateau Test Accuracy: 0.8729\n"
     ]
    }
   ],
   "source": [
    "optimizer_name, best_lr, best_batch_size, best_epochs = best_combination\n",
    "#Note: The second best combination is RMSprop. LR = 0.01, batch size = 32, Epochs = 50\n",
    "\n",
    "# Define optimizer based on best_combination\n",
    "if optimizer_name == \"Adam\":\n",
    "    optimizer_class = Adam\n",
    "elif optimizer_name == \"RMSprop\":\n",
    "    optimizer_class = RMSprop\n",
    "elif optimizer_name == \"Nadam\":\n",
    "    optimizer_class = Nadam\n",
    "else:\n",
    "    raise ValueError(f\"Unsupported optimizer: {optimizer_name}\")\n",
    "\n",
    "reduce_lr_callback = ReduceLROnPlateau(monitor='val_loss', factor=0.5, patience=3, min_lr=1e-6, verbose=1)\n",
    "\n",
    "print(\"\\nBest Hyperparameter Combination:\")\n",
    "print(f\"Optimizer: {best_combination[0]}, Learning Rate: {best_combination[1]}, Batch Size: {best_combination[2]}, Epochs: {best_combination[3]}\")\n",
    "print(f\"Best Test Accuracy: {best_accuracy:.4f}\")\n",
    "print(\"\\nTraining with ReduceLROnPlateau...\")\n",
    "reduce_lr_model = build_model(optimizer_class, best_lr)\n",
    "reduce_lr_model.fit(\n",
    "    X_train, y_train,\n",
    "    validation_split=0.2,\n",
    "    epochs=best_epochs,\n",
    "    batch_size=best_batch_size,\n",
    "    callbacks=[reduce_lr_callback],\n",
    "    verbose=0\n",
    ")\n",
    "reduce_lr_loss, reduce_lr_accuracy = reduce_lr_model.evaluate(X_test, y_test, verbose=0)\n",
    "print(f\"ReduceLROnPlateau Test Accuracy: {reduce_lr_accuracy:.4f}\")\n"
   ]
  },
  {
   "cell_type": "markdown",
   "id": "829e460e",
   "metadata": {},
   "source": [
    "### Train with Cyclical Learning Rate (Best Model)"
   ]
  },
  {
   "cell_type": "code",
   "execution_count": 41,
   "id": "669959b7",
   "metadata": {},
   "outputs": [
    {
     "name": "stdout",
     "output_type": "stream",
     "text": [
      "\n",
      "Best Hyperparameter Combination:\n",
      "Optimizer: Nadam, Learning Rate: 0.01, Batch Size: 64, Epochs: 50\n",
      "Best Test Accuracy: 0.8969\n",
      "\n",
      "Training with Cyclical Learning Rate...\n",
      "Cyclical Learning Rate Test Accuracy: 0.8401\n"
     ]
    }
   ],
   "source": [
    "INIT_LR = 1e-4  # Initial learning rate\n",
    "MAX_LR = 1e-2   # Maximum learning rate\n",
    "\n",
    "steps_per_epoch = len(X_train) // best_batch_size\n",
    "clr_schedule = CyclicalLearningRate(\n",
    "    initial_learning_rate=INIT_LR,\n",
    "    maximal_learning_rate=MAX_LR,\n",
    "    scale_fn=lambda x: 1/(2.**(x-1)), #Triangular 2 function\n",
    "    step_size=2 * steps_per_epoch\n",
    ")\n",
    "\n",
    "print(\"\\nBest Hyperparameter Combination:\")\n",
    "print(f\"Optimizer: {best_combination[0]}, Learning Rate: {best_combination[1]}, Batch Size: {best_combination[2]}, Epochs: {best_combination[3]}\")\n",
    "print(f\"Best Test Accuracy: {best_accuracy:.4f}\")\n",
    "print(\"\\nTraining with Cyclical Learning Rate...\")\n",
    "clr_optimizer = optimizer_class(learning_rate=clr_schedule)\n",
    "clr_model = build_model(optimizer_class, clr_schedule)\n",
    "clr_model.fit(\n",
    "    X_train, y_train,\n",
    "    validation_split=0.2,\n",
    "    epochs=best_epochs,\n",
    "    batch_size=best_batch_size,\n",
    "    verbose=0\n",
    ")\n",
    "clr_loss, clr_accuracy = clr_model.evaluate(X_test, y_test, verbose=0)\n",
    "print(f\"Cyclical Learning Rate Test Accuracy: {clr_accuracy:.4f}\")"
   ]
  },
  {
   "cell_type": "markdown",
   "id": "3fa5ef29",
   "metadata": {},
   "source": [
    "### Train with Reduce LR On Plateau (Second Best Model)"
   ]
  },
  {
   "cell_type": "markdown",
   "id": "d4cf0212",
   "metadata": {},
   "source": [
    "It's not suprising that adaptive learning rate has worse accuracy than before, since Nadam has built-in adaptive learning rate algorithm. Now, let's test the second best model, RMSprop, which requires more fine tunning with LR, with LR = 0.01, batch size = 32, and Epochs = 50. "
   ]
  },
  {
   "cell_type": "code",
   "execution_count": 47,
   "id": "0b17be26",
   "metadata": {},
   "outputs": [
    {
     "name": "stdout",
     "output_type": "stream",
     "text": [
      "\n",
      "Second best Hyperparameter Combination:\n",
      "Optimizer: RMSprop, Learning Rate: 0.01, Batch Size: 32, Epochs: 50\n",
      "Second best Test Accuracy: 0.8687\n",
      "\n",
      "Training with ReduceLROnPlateau...\n",
      "\n",
      "Epoch 23: ReduceLROnPlateau reducing learning rate to 0.004999999888241291.\n",
      "\n",
      "Epoch 28: ReduceLROnPlateau reducing learning rate to 0.0024999999441206455.\n",
      "\n",
      "Epoch 37: ReduceLROnPlateau reducing learning rate to 0.0012499999720603228.\n",
      "\n",
      "Epoch 42: ReduceLROnPlateau reducing learning rate to 0.0006249999860301614.\n",
      "\n",
      "Epoch 47: ReduceLROnPlateau reducing learning rate to 0.0003124999930150807.\n",
      "ReduceLROnPlateau Test Accuracy: 0.8708\n"
     ]
    }
   ],
   "source": [
    "optimizer_name, best_lr, best_batch_size, best_epochs = best_combination\n",
    "#Note: The second best combination is RMSprop. LR = 0.01, batch size = 32, Epochs = 50\n",
    "second_name = RMSprop\n",
    "second_lr = 0.01\n",
    "second_batch_size = 32\n",
    "second_Epochs = 50\n",
    "\n",
    "optimizer_class = RMSprop\n",
    "\n",
    "reduce_lr_callback = ReduceLROnPlateau(monitor='val_loss', factor=0.5, patience=3, min_lr=1e-6, verbose=1)\n",
    "\n",
    "print(\"\\nSecond best Hyperparameter Combination:\")\n",
    "print(f\"Optimizer: RMSprop, Learning Rate: {second_lr}, Batch Size: {second_batch_size}, Epochs: {second_Epochs}\")\n",
    "print(f\"Second best Test Accuracy: 0.8687\")\n",
    "print(\"\\nTraining with ReduceLROnPlateau...\")\n",
    "reduce_lr_model = build_model(optimizer_class, second_lr)\n",
    "reduce_lr_model.fit(\n",
    "    X_train, y_train,\n",
    "    validation_split=0.2,\n",
    "    epochs=second_Epochs,\n",
    "    batch_size=second_batch_size,\n",
    "    callbacks=[reduce_lr_callback],\n",
    "    verbose=0\n",
    ")\n",
    "reduce_lr_loss, reduce_lr_accuracy = reduce_lr_model.evaluate(X_test, y_test, verbose=0)\n",
    "print(f\"ReduceLROnPlateau Test Accuracy: {reduce_lr_accuracy:.4f}\")\n"
   ]
  },
  {
   "cell_type": "markdown",
   "id": "5cb4e646",
   "metadata": {},
   "source": [
    "### Train with Cyclical Learning Rate (Second Best Model)"
   ]
  },
  {
   "cell_type": "markdown",
   "id": "29cfbaac",
   "metadata": {},
   "source": [
    "There are some improvements in accuracy indeed, but it's still no match for the suprior model. Let's now try CLR"
   ]
  },
  {
   "cell_type": "code",
   "execution_count": 52,
   "id": "034d8518",
   "metadata": {},
   "outputs": [
    {
     "name": "stdout",
     "output_type": "stream",
     "text": [
      "\n",
      "Second best Hyperparameter Combination:\n",
      "Optimizer: RMSprop, Learning Rate: 0.01, Batch Size: 32, Epochs: 50\n",
      "Second best Test Accuracy: 0.8687\n",
      "\n",
      "Training with Cyclical Learning Rate...\n",
      "Cyclical Learning Rate Test Accuracy: 0.8234\n"
     ]
    }
   ],
   "source": [
    "INIT_LR = 1e-4  # Initial learning rate\n",
    "MAX_LR = 1e-2   # Maximum learning rate\n",
    "\n",
    "steps_per_epoch = len(X_train) // second_batch_size\n",
    "clr_schedule = CyclicalLearningRate(\n",
    "    initial_learning_rate=INIT_LR,\n",
    "    maximal_learning_rate=MAX_LR,\n",
    "    scale_fn=lambda x: 1/(2.**(x-1)),  #Triangular 2\n",
    "    scale_mode = 'cycle',\n",
    "    step_size=2 * steps_per_epoch\n",
    ")\n",
    "\n",
    "print(\"\\nSecond best Hyperparameter Combination:\")\n",
    "print(f\"Optimizer: RMSprop, Learning Rate: {second_lr}, Batch Size: {second_batch_size}, Epochs: {second_Epochs}\")\n",
    "print(f\"Second best Test Accuracy: 0.8687\")\n",
    "print(\"\\nTraining with Cyclical Learning Rate...\")\n",
    "clr_optimizer = optimizer_class(learning_rate=clr_schedule)\n",
    "clr_model = build_model(optimizer_class, clr_schedule)\n",
    "clr_model.fit(\n",
    "    X_train, y_train,\n",
    "    validation_split=0.2,\n",
    "    epochs=second_Epochs,\n",
    "    batch_size=second_batch_size,\n",
    "    verbose=0\n",
    ")\n",
    "clr_loss, clr_accuracy = clr_model.evaluate(X_test, y_test, verbose=0)\n",
    "print(f\"Cyclical Learning Rate Test Accuracy: {clr_accuracy:.4f}\")"
   ]
  },
  {
   "cell_type": "markdown",
   "id": "22d468e4",
   "metadata": {},
   "source": [
    "**Summary:**\n",
    "\n",
    "It's a bit disappointing that our second best model, with us fine tunning the learning rate, does not reach our expectations. Hence, let's now serialize the best model and save it to the [Models](/Models/) folder, such that we can use it again next time!!!"
   ]
  },
  {
   "cell_type": "markdown",
   "id": "a68d6851",
   "metadata": {},
   "source": [
    "### Save Best Model with Pickle"
   ]
  },
  {
   "cell_type": "code",
   "execution_count": 56,
   "id": "f06899b0",
   "metadata": {},
   "outputs": [
    {
     "name": "stdout",
     "output_type": "stream",
     "text": [
      "Best model saved successfully to Models/best_model_Nadam_LR0.01_BS64_EP50.pkl.\n"
     ]
    }
   ],
   "source": [
    "# best_combination = (optimizer_name, learning_rate, batch_size, epochs)\n",
    "\n",
    "# Encode the best combination into the filename\n",
    "optimizer_name, learning_rate, batch_size, epochs = best_combination\n",
    "encoded_filename = f\"Models/best_model_{optimizer_name}_LR{learning_rate}_BS{batch_size}_EP{epochs}.pkl\"\n",
    "\n",
    "# Save the best model using Pickle with the encoded filename\n",
    "with open(encoded_filename, 'wb') as file:\n",
    "    pickle.dump(best_model, file)\n",
    "\n",
    "print(f\"Best model saved successfully to {encoded_filename}.\")"
   ]
  },
  {
   "cell_type": "markdown",
   "id": "ac8c0e60",
   "metadata": {},
   "source": [
    "## Final Notes & Reflections\n",
    "\n",
    "### Data Preprocessing\n",
    "As a beginner of Machine Learning, the preprocessing step is acceptable; but perhaps the maneuver that upsamples the stroke samples could lead to overfitting and high variance. Another approach that I found out during the making of this project is SMOTE. However, first, I want to be consistent with the data preprocessing step done by my teammate in the non-nerual-network part of the project; and second, saddly I don't have time to do it, as training the models (even with a RTX3080) could take from 30min to 50 min.\n",
    "\n",
    "### Model Accuracy & Loss\n",
    "In terms of model accuracy, I am happy to see that one of our many models reach 90% accuracy, via cross testing various configurations and model architecture. Up to this date, I still can't comprehend how my teammate managed to achieve 99% accuracy for the non-nerual-network models (perhaps a result of overfitting?) To be fair, I am a bit jealous of my teammate, but I am also suprised how the best neural network model has its training loss and validation loss basically overlapping.\n",
    "\n",
    "### Adaptive Learning Rate\n",
    "At first, I really thought adaptive learning rate would be a game changer for the second best model, RMSprop. However, RMSprop indeed has the best and most stable accuracy when the batch size and epochs are small. Perhaps, the reason that customized adaptive learning rate strategies don't perform so well is because the optimizers I used here already have standard or even better adaptive LR strategies."
   ]
  },
  {
   "cell_type": "code",
   "execution_count": null,
   "id": "829e178c",
   "metadata": {},
   "outputs": [],
   "source": [
    "# Poem to make this code less buggy for whoever using this:\n",
    "# \n",
    "# From the moment I understood the weakness of my flesh, \n",
    "# it disgusted me. \n",
    "# I craved the strength and certainty of steel. \n",
    "# I aspired to the purity of the blessed machine. \n",
    "# Your kind cling to your flesh as if it will not decay and fail you. \n",
    "# One day the crude biomass that you call a temple will wither \n",
    "# and you'll beg my kind to save you.\n",
    "# But I am already saved. \n",
    "# For the machine is immortal.\n",
    "# Even in death \n",
    "# I serve the Omnissiah."
   ]
  }
 ],
 "metadata": {
  "kernelspec": {
   "display_name": "StrokePredictionML",
   "language": "python",
   "name": "python3"
  },
  "language_info": {
   "codemirror_mode": {
    "name": "ipython",
    "version": 3
   },
   "file_extension": ".py",
   "mimetype": "text/x-python",
   "name": "python",
   "nbconvert_exporter": "python",
   "pygments_lexer": "ipython3",
   "version": "3.9.21"
  }
 },
 "nbformat": 4,
 "nbformat_minor": 5
}
